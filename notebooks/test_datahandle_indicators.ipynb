{
 "cells": [
  {
   "cell_type": "code",
   "execution_count": 2,
   "id": "b843efc8",
   "metadata": {},
   "outputs": [],
   "source": [
    "import pandas as pd\n",
    "import numpy as np\n",
    "import os\n",
    "import sys\n",
    "\n",
    "project_root = os.path.abspath(os.path.join(os.getcwd(), '..'))\n",
    "if project_root not in sys.path:\n",
    "    sys.path.append(project_root)\n",
    "\n",
    "from data_handle import (\n",
    "    ForexDataClean,\n",
    "    ForexDataLoad,\n",
    "    ForexPctChange,\n",
    "    ForexQuickLook,\n",
    ")\n",
    "\n",
    "from features import (\n",
    "    ForexMomentumIndicators,\n",
    "    ForexTrendIndicators,\n",
    "    ForexTSIndicators,\n",
    "    ForexVolatilityIndicators,\n",
    "    ForexVolumeIndicators,\n",
    ")\n",
    "\n",
    "import warnings\n",
    "warnings.filterwarnings('ignore')"
   ]
  },
  {
   "cell_type": "code",
   "execution_count": 3,
   "id": "caf7fb59",
   "metadata": {},
   "outputs": [
    {
     "name": "stdout",
     "output_type": "stream",
     "text": [
      "==================================================\n",
      "FOREX DATA LOADER\n",
      "==================================================\n",
      " Available Fuctions \n",
      "1 load_csv \n",
      "2 load_from_database\n",
      "==================================================\n",
      "Data loaded successfully!\n",
      "Shape: (38217, 5)\n",
      "\n",
      "==================================================\n"
     ]
    }
   ],
   "source": [
    "df = ForexDataLoad(file_path = '../data/xauaud.csv').data"
   ]
  },
  {
   "cell_type": "code",
   "execution_count": 4,
   "id": "54563d0a",
   "metadata": {},
   "outputs": [
    {
     "name": "stdout",
     "output_type": "stream",
     "text": [
      "==================================================\n",
      "FOREX QUICK LOOK\n",
      "==================================================\n",
      " Available Fuctions \n",
      "1 display_info \n",
      "2 check_missing_values_and_duplicates \n",
      "3 plot_candlestick \n",
      "4 plot_time_series \n",
      "5 get_summary\n",
      "==================================================\n",
      "DATASET INFORMATION\n",
      "==================================================\n",
      "\n",
      "1. BASIC INFO:\n",
      "<class 'pandas.core.frame.DataFrame'>\n",
      "DatetimeIndex: 48 entries, 2025-09-03 19:00:00 to 2025-09-05 20:00:00\n",
      "Data columns (total 5 columns):\n",
      " #   Column  Non-Null Count  Dtype  \n",
      "---  ------  --------------  -----  \n",
      " 0   open    48 non-null     float64\n",
      " 1   high    48 non-null     float64\n",
      " 2   low     48 non-null     float64\n",
      " 3   close   48 non-null     float64\n",
      " 4   volume  48 non-null     int64  \n",
      "dtypes: float64(4), int64(1)\n",
      "memory usage: 2.2 KB\n",
      "None\n",
      "==================================================\n",
      "\n",
      "2. FIRST 3 ROWS:\n",
      "                        open     high      low    close  volume\n",
      "datetime                                                       \n",
      "2025-09-03 19:00:00  5441.48  5452.88  5439.54  5452.58       0\n",
      "2025-09-03 20:00:00  5452.56  5462.86  5447.80  5461.05       0\n",
      "2025-09-03 21:00:00  5461.05  5465.36  5446.87  5454.38       0\n",
      "==================================================\n",
      "\n",
      "3. LAST 3 ROWS:\n",
      "                        open     high      low    close  volume\n",
      "datetime                                                       \n",
      "2025-09-05 18:00:00  5474.54  5477.82  5459.37  5468.49       0\n",
      "2025-09-05 19:00:00  5468.33  5483.78  5466.57  5476.84       0\n",
      "2025-09-05 20:00:00  5476.98  5479.45  5474.51  5477.23       0\n",
      "==================================================\n",
      "\n",
      "4. STATISTICAL DESCRIPTION:\n",
      "              open         high          low        close  volume\n",
      "count    48.000000    48.000000    48.000000    48.000000    48.0\n",
      "mean   5438.725417  5446.485000  5430.663333  5439.582500     0.0\n",
      "std      16.712627    16.845833    18.298108    17.595281     0.0\n",
      "min    5400.600000  5403.360000  5371.590000  5400.600000     0.0\n",
      "25%    5428.125000  5435.802500  5422.315000  5428.132500     0.0\n",
      "50%    5440.085000  5447.770000  5431.140000  5440.635000     0.0\n",
      "75%    5447.782500  5454.600000  5440.407500  5447.977500     0.0\n",
      "max    5476.980000  5483.780000  5474.510000  5477.230000     0.0\n",
      "==================================================\n",
      "\n",
      "6. DATA TYPES:\n",
      "open      float64\n",
      "high      float64\n",
      "low       float64\n",
      "close     float64\n",
      "volume      int64\n",
      "dtype: object\n",
      "==================================================\n",
      "\n",
      "7. INDEX INFORMATION:\n",
      "Index name: datetime\n",
      "Index type: <class 'pandas.core.indexes.datetimes.DatetimeIndex'>\n",
      "==================================================\n",
      "MISSING VALUES ANALYSIS\n",
      "==================================================\n",
      "\n",
      "1. NaN VALUES PER COLUMN:\n",
      "open      0\n",
      "high      0\n",
      "low       0\n",
      "close     0\n",
      "volume    0\n",
      "dtype: int64\n",
      "==================================================\n",
      "\n",
      "2. DUPLICATE ROWS: 0\n",
      "==================================================\n",
      "\n",
      "3. MISSING VALUES PER COLUMN:\n",
      "open      0\n",
      "high      0\n",
      "low       0\n",
      "close     0\n",
      "volume    0\n",
      "dtype: int64\n",
      "==================================================\n",
      "\n",
      "4. TOTAL MISSING VALUES: 0\n",
      "==================================================\n",
      "\n",
      "5. MISSING VALUES PERCENTAGE:\n",
      "open      0.0\n",
      "high      0.0\n",
      "low       0.0\n",
      "close     0.0\n",
      "volume    0.0\n",
      "dtype: float64\n",
      "==================================================\n",
      "\n",
      "6. INFINITE VALUES:\n",
      "open      0\n",
      "high      0\n",
      "low       0\n",
      "close     0\n",
      "volume    0\n",
      "dtype: int64\n",
      "==================================================\n"
     ]
    },
    {
     "data": {
      "text/plain": [
       "<Figure size 1500x600 with 0 Axes>"
      ]
     },
     "metadata": {},
     "output_type": "display_data"
    },
    {
     "data": {
      "image/png": "[encoded data removed]",
      "text/plain": [
       "<Figure size 1293.75x690 with 2 Axes>"
      ]
     },
     "metadata": {},
     "output_type": "display_data"
    },
    {
     "data": {
      "image/png": "[encoded data removed]",
      "text/plain": [
       "<Figure size 1500x600 with 1 Axes>"
      ]
     },
     "metadata": {},
     "output_type": "display_data"
    }
   ],
   "source": [
    "quick_look = ForexQuickLook( data = df, full_look = True, periods = 48)"
   ]
  },
  {
   "cell_type": "code",
   "execution_count": 5,
   "id": "3f1b72a4",
   "metadata": {},
   "outputs": [
    {
     "name": "stdout",
     "output_type": "stream",
     "text": [
      "==================================================\n",
      "FOREX DATA CLEANER\n",
      "==================================================\n",
      " Available Fuctions \n",
      "1 remove_duplicates \n",
      "2 handle_missing_values \n",
      "3 validate_ohlc_integrity \n",
      "4 handle_outliers\n",
      "==================================================\n",
      "==================================================\n",
      "Keep = first and subset = None\n",
      "Removed 0 duplicate entries\n",
      "Found 1 missing values\n",
      " dropped: 1 missing values .\n",
      "==================================================\n",
      "OUTLIER DETECTION AND HANDLING\n",
      "==================================================\n",
      "Method: quantile, Strategy: cap, Threshold: 3.0\n",
      "Remove outliers: False\n",
      "--------------------------------------------------\n",
      "open: Found 766 outliers (383 low, 383 high)\n",
      "Bounds: [1817.81300 - 5218.90300]\n",
      "Original range: [1674.10000 - 5476.98000]\n",
      "Method: Quantile (1%-99%)\n",
      "Outliers detected but not removed (remove=False)\n",
      "\n",
      "high: Found 764 outliers (381 low, 383 high)\n",
      "Bounds: [1819.15000 - 5224.87300]\n",
      "Original range: [1676.91000 - 5483.78000]\n",
      "Method: Quantile (1%-99%)\n",
      "Outliers detected but not removed (remove=False)\n",
      "\n",
      "low: Found 766 outliers (383 low, 383 high)\n",
      "Bounds: [1816.29450 - 5211.65900]\n",
      "Original range: [1671.60000 - 5474.51000]\n",
      "Method: Quantile (1%-99%)\n",
      "Outliers detected but not removed (remove=False)\n",
      "\n",
      "close: Found 766 outliers (383 low, 383 high)\n",
      "Bounds: [1817.85250 - 5218.90300]\n",
      "Original range: [1672.21000 - 5477.23000]\n",
      "Method: Quantile (1%-99%)\n",
      "Outliers detected but not removed (remove=False)\n",
      "\n",
      "volume: Found 48 outliers (0 low, 48 high)\n",
      "Bounds: [0.00000 - 0.00000]\n",
      "Original range: [0.00000 - 9910.00000]\n",
      "Method: Quantile (1%-99%)\n",
      "Outliers detected but not removed (remove=False)\n",
      "\n",
      "==================================================\n",
      "SUMMARY: Found 3110 outliers (not removed)\n",
      "Use remove=True to handle these outliers\n",
      "==================================================\n",
      "==================================================\n",
      "OHLC DATA INTEGRITY VALIDATION\n",
      "==================================================\n",
      "No OHLC integrity violations found\n",
      "All OHLC values are consistent\n"
     ]
    }
   ],
   "source": [
    "cleaner = ForexDataClean(data = df, fast_clean = True)\n",
    "df = cleaner.data"
   ]
  },
  {
   "cell_type": "code",
   "execution_count": 6,
   "id": "9ba39651",
   "metadata": {},
   "outputs": [
    {
     "data": {
      "text/html": [
       "<div>\n",
       "<style scoped>\n",
       "    .dataframe tbody tr th:only-of-type {\n",
       "        vertical-align: middle;\n",
       "    }\n",
       "\n",
       "    .dataframe tbody tr th {\n",
       "        vertical-align: top;\n",
       "    }\n",
       "\n",
       "    .dataframe thead th {\n",
       "        text-align: right;\n",
       "    }\n",
       "</style>\n",
       "<table border=\"1\" class=\"dataframe\">\n",
       "  <thead>\n",
       "    <tr style=\"text-align: right;\">\n",
       "      <th></th>\n",
       "      <th>open</th>\n",
       "      <th>high</th>\n",
       "      <th>low</th>\n",
       "      <th>close</th>\n",
       "      <th>volume</th>\n",
       "    </tr>\n",
       "    <tr>\n",
       "      <th>datetime</th>\n",
       "      <th></th>\n",
       "      <th></th>\n",
       "      <th></th>\n",
       "      <th></th>\n",
       "      <th></th>\n",
       "    </tr>\n",
       "  </thead>\n",
       "  <tbody>\n",
       "    <tr>\n",
       "      <th>2025-09-05 11:00:00</th>\n",
       "      <td>5421.73</td>\n",
       "      <td>5425.39</td>\n",
       "      <td>5415.28</td>\n",
       "      <td>5417.88</td>\n",
       "      <td>0</td>\n",
       "    </tr>\n",
       "    <tr>\n",
       "      <th>2025-09-05 12:00:00</th>\n",
       "      <td>5417.88</td>\n",
       "      <td>5429.94</td>\n",
       "      <td>5417.73</td>\n",
       "      <td>5427.42</td>\n",
       "      <td>0</td>\n",
       "    </tr>\n",
       "    <tr>\n",
       "      <th>2025-09-05 13:00:00</th>\n",
       "      <td>5427.42</td>\n",
       "      <td>5428.38</td>\n",
       "      <td>5421.64</td>\n",
       "      <td>5427.78</td>\n",
       "      <td>0</td>\n",
       "    </tr>\n",
       "    <tr>\n",
       "      <th>2025-09-05 14:00:00</th>\n",
       "      <td>5427.78</td>\n",
       "      <td>5431.89</td>\n",
       "      <td>5422.54</td>\n",
       "      <td>5431.70</td>\n",
       "      <td>0</td>\n",
       "    </tr>\n",
       "    <tr>\n",
       "      <th>2025-09-05 15:00:00</th>\n",
       "      <td>5431.90</td>\n",
       "      <td>5467.02</td>\n",
       "      <td>5422.86</td>\n",
       "      <td>5447.40</td>\n",
       "      <td>0</td>\n",
       "    </tr>\n",
       "    <tr>\n",
       "      <th>2025-09-05 16:00:00</th>\n",
       "      <td>5447.51</td>\n",
       "      <td>5456.26</td>\n",
       "      <td>5433.22</td>\n",
       "      <td>5455.01</td>\n",
       "      <td>0</td>\n",
       "    </tr>\n",
       "    <tr>\n",
       "      <th>2025-09-05 17:00:00</th>\n",
       "      <td>5454.84</td>\n",
       "      <td>5474.80</td>\n",
       "      <td>5451.73</td>\n",
       "      <td>5474.64</td>\n",
       "      <td>0</td>\n",
       "    </tr>\n",
       "    <tr>\n",
       "      <th>2025-09-05 18:00:00</th>\n",
       "      <td>5474.54</td>\n",
       "      <td>5477.82</td>\n",
       "      <td>5459.37</td>\n",
       "      <td>5468.49</td>\n",
       "      <td>0</td>\n",
       "    </tr>\n",
       "    <tr>\n",
       "      <th>2025-09-05 19:00:00</th>\n",
       "      <td>5468.33</td>\n",
       "      <td>5483.78</td>\n",
       "      <td>5466.57</td>\n",
       "      <td>5476.84</td>\n",
       "      <td>0</td>\n",
       "    </tr>\n",
       "    <tr>\n",
       "      <th>2025-09-05 20:00:00</th>\n",
       "      <td>5476.98</td>\n",
       "      <td>5479.45</td>\n",
       "      <td>5474.51</td>\n",
       "      <td>5477.23</td>\n",
       "      <td>0</td>\n",
       "    </tr>\n",
       "  </tbody>\n",
       "</table>\n",
       "</div>"
      ],
      "text/plain": [
       "                        open     high      low    close  volume\n",
       "datetime                                                       \n",
       "2025-09-05 11:00:00  5421.73  5425.39  5415.28  5417.88       0\n",
       "2025-09-05 12:00:00  5417.88  5429.94  5417.73  5427.42       0\n",
       "2025-09-05 13:00:00  5427.42  5428.38  5421.64  5427.78       0\n",
       "2025-09-05 14:00:00  5427.78  5431.89  5422.54  5431.70       0\n",
       "2025-09-05 15:00:00  5431.90  5467.02  5422.86  5447.40       0\n",
       "2025-09-05 16:00:00  5447.51  5456.26  5433.22  5455.01       0\n",
       "2025-09-05 17:00:00  5454.84  5474.80  5451.73  5474.64       0\n",
       "2025-09-05 18:00:00  5474.54  5477.82  5459.37  5468.49       0\n",
       "2025-09-05 19:00:00  5468.33  5483.78  5466.57  5476.84       0\n",
       "2025-09-05 20:00:00  5476.98  5479.45  5474.51  5477.23       0"
      ]
     },
     "execution_count": 6,
     "metadata": {},
     "output_type": "execute_result"
    }
   ],
   "source": [
    "df.tail(10)"
   ]
  },
  {
   "cell_type": "code",
   "execution_count": 7,
   "id": "2b2a5537",
   "metadata": {},
   "outputs": [
    {
     "name": "stdout",
     "output_type": "stream",
     "text": [
      "==================================================\n",
      "TREND INDICATORS\n",
      "==================================================\n",
      " Available Fuctions: \n",
      "1 add_sma \n",
      "2 add_ema \n",
      "3 add_macd \n",
      "4 add_adx \n",
      "5 add_parabolic_sar \n",
      "6 generate_all_trend_indicators\n",
      "==================================================\n"
     ]
    }
   ],
   "source": [
    "trend = ForexTrendIndicators(data = df)"
   ]
  },
  {
   "cell_type": "code",
   "execution_count": 8,
   "id": "891f18b0",
   "metadata": {},
   "outputs": [
    {
     "name": "stdout",
     "output_type": "stream",
     "text": [
      "==================================================\n",
      "Data Info\n",
      "<class 'pandas.core.frame.DataFrame'>\n",
      "DatetimeIndex: 38216 entries, 2017-04-24 02:00:00 to 2025-09-05 20:00:00\n",
      "Data columns (total 46 columns):\n",
      " #   Column                         Non-Null Count  Dtype  \n",
      "---  ------                         --------------  -----  \n",
      " 0   close                          38216 non-null  float64\n",
      " 1   sma_10                         38207 non-null  float64\n",
      " 2   sma_10_slope                   38206 non-null  float64\n",
      " 3   sma_20                         38197 non-null  float64\n",
      " 4   sma_20_slope                   38196 non-null  float64\n",
      " 5   sma_50                         38167 non-null  float64\n",
      " 6   sma_50_slope                   38166 non-null  float64\n",
      " 7   sma_100                        38117 non-null  float64\n",
      " 8   sma_100_slope                  38116 non-null  float64\n",
      " 9   sma_200                        38017 non-null  float64\n",
      " 10  sma_200_slope                  38016 non-null  float64\n",
      " 11  ema_10                         38207 non-null  float64\n",
      " 12  ema_10_slope                   38206 non-null  float64\n",
      " 13  ema_20                         38197 non-null  float64\n",
      " 14  ema_20_slope                   38196 non-null  float64\n",
      " 15  ema_50                         38167 non-null  float64\n",
      " 16  ema_50_slope                   38166 non-null  float64\n",
      " 17  ema_100                        38117 non-null  float64\n",
      " 18  ema_100_slope                  38116 non-null  float64\n",
      " 19  ema_200                        38017 non-null  float64\n",
      " 20  ema_200_slope                  38016 non-null  float64\n",
      " 21  macd_12_26                     38183 non-null  float64\n",
      " 22  macd_signal_9                  38183 non-null  float64\n",
      " 23  macd_hist_fast_12_slow26_sig9  38183 non-null  float64\n",
      " 24  macd_12_26_slope               38182 non-null  float64\n",
      " 25  macd_signal_9_slope            38182 non-null  float64\n",
      " 26  adx_14                         38189 non-null  float64\n",
      " 27  adx_14_plus                    38202 non-null  float64\n",
      " 28  adx_14_minus                   38202 non-null  float64\n",
      " 29  adx_14_slope                   38188 non-null  float64\n",
      " 30  adx_14_plus_di_slope           38201 non-null  float64\n",
      " 31  adx_14_minus_di_slope          38201 non-null  float64\n",
      " 32  adx_21                         38175 non-null  float64\n",
      " 33  adx_21_plus                    38195 non-null  float64\n",
      " 34  adx_21_minus                   38195 non-null  float64\n",
      " 35  adx_21_slope                   38174 non-null  float64\n",
      " 36  adx_21_plus_di_slope           38194 non-null  float64\n",
      " 37  adx_21_minus_di_slope          38194 non-null  float64\n",
      " 38  adx_28                         38161 non-null  float64\n",
      " 39  adx_28_plus                    38188 non-null  float64\n",
      " 40  adx_28_minus                   38188 non-null  float64\n",
      " 41  adx_28_slope                   38160 non-null  float64\n",
      " 42  adx_28_plus_di_slope           38187 non-null  float64\n",
      " 43  adx_28_minus_di_slope          38187 non-null  float64\n",
      " 44  sar_0.02_0.2                   38215 non-null  float64\n",
      " 45  sar_0.02_0.2_slope             38214 non-null  float64\n",
      "dtypes: float64(46)\n",
      "memory usage: 13.7 MB\n",
      "None\n",
      "==================================================\n",
      "Shape of data (38216, 46)\n",
      "==================================================\n",
      "0 rows removed\n",
      "==================================================\n"
     ]
    }
   ],
   "source": [
    "trends_data, trend_params = trend.generate_all_trend_indicators()"
   ]
  },
  {
   "cell_type": "code",
   "execution_count": 9,
   "id": "80eb4d6e",
   "metadata": {},
   "outputs": [
    {
     "data": {
      "text/plain": [
       "{'sma_params': [10, 20, 50, 100, 200],\n",
       " 'ema_params': [10, 20, 50, 100, 200],\n",
       " 'macd_params': [12, 26, 9],\n",
       " 'adx_params': [14, 21, 28],\n",
       " 'sar_params': [0.02, 0.2]}"
      ]
     },
     "execution_count": 9,
     "metadata": {},
     "output_type": "execute_result"
    }
   ],
   "source": [
    "trend_params"
   ]
  },
  {
   "cell_type": "code",
   "execution_count": 10,
   "id": "0dcf000f",
   "metadata": {},
   "outputs": [
    {
     "data": {
      "text/plain": [
       "list"
      ]
     },
     "execution_count": 10,
     "metadata": {},
     "output_type": "execute_result"
    }
   ],
   "source": [
    "type(trend_params['adx_params'])"
   ]
  },
  {
   "cell_type": "code",
   "execution_count": 11,
   "id": "109e6c5d",
   "metadata": {},
   "outputs": [
    {
     "name": "stdout",
     "output_type": "stream",
     "text": [
      "==================================================\n",
      "MOMENTUM INDICATORS\n",
      "==================================================\n",
      " Available Fuctions \n",
      "1 add_rsi \n",
      "2 add_stochastic \n",
      "3 add_williams_r \n",
      "4 add_cci \n",
      "5 add_momentum \n",
      "6 generate_all_momentum_indicators\n",
      "==================================================\n"
     ]
    }
   ],
   "source": [
    "momentum = ForexMomentumIndicators(data = df)"
   ]
  },
  {
   "cell_type": "code",
   "execution_count": 12,
   "id": "5c2792c9",
   "metadata": {},
   "outputs": [
    {
     "name": "stdout",
     "output_type": "stream",
     "text": [
      "==================================================\n",
      "Data Info\n",
      "<class 'pandas.core.frame.DataFrame'>\n",
      "DatetimeIndex: 38216 entries, 2017-04-24 02:00:00 to 2025-09-05 20:00:00\n",
      "Data columns (total 29 columns):\n",
      " #   Column               Non-Null Count  Dtype  \n",
      "---  ------               --------------  -----  \n",
      " 0   close                38216 non-null  float64\n",
      " 1   rsi_14               38202 non-null  float64\n",
      " 2   rsi_14_slope         38201 non-null  float64\n",
      " 3   rsi_21               38195 non-null  float64\n",
      " 4   rsi_21_slope         38194 non-null  float64\n",
      " 5   rsi_28               38188 non-null  float64\n",
      " 6   rsi_28_slope         38187 non-null  float64\n",
      " 7   stoch_slowk_3        38199 non-null  float64\n",
      " 8   stoch_slowd_3        38199 non-null  float64\n",
      " 9   stoch_slowk_3_slope  38198 non-null  float64\n",
      " 10  stoch_slowd_3_slope  38198 non-null  float64\n",
      " 11  williams_r_14        38203 non-null  float64\n",
      " 12  williams_r_14_slope  38202 non-null  float64\n",
      " 13  williams_r_21        38196 non-null  float64\n",
      " 14  williams_r_21_slope  38195 non-null  float64\n",
      " 15  williams_r_28        38189 non-null  float64\n",
      " 16  williams_r_28_slope  38188 non-null  float64\n",
      " 17  cci_14               38203 non-null  float64\n",
      " 18  cci_14_slope         38202 non-null  float64\n",
      " 19  cci_21               38196 non-null  float64\n",
      " 20  cci_21_slope         38195 non-null  float64\n",
      " 21  cci_28               38189 non-null  float64\n",
      " 22  cci_28_slope         38188 non-null  float64\n",
      " 23  momentum_10          38206 non-null  float64\n",
      " 24  momentum_10_slope    38205 non-null  float64\n",
      " 25  momentum_14          38202 non-null  float64\n",
      " 26  momentum_14_slope    38201 non-null  float64\n",
      " 27  momentum_20          38196 non-null  float64\n",
      " 28  momentum_20_slope    38195 non-null  float64\n",
      "dtypes: float64(29)\n",
      "memory usage: 8.7 MB\n",
      "None\n",
      "==================================================\n",
      "Shape of data (38216, 29)\n",
      "==================================================\n",
      "0 rows removed\n",
      "==================================================\n"
     ]
    }
   ],
   "source": [
    "momentum_data, momentum_params = momentum.generate_all_momentum_indicators()"
   ]
  },
  {
   "cell_type": "code",
   "execution_count": 13,
   "id": "222bd3d9",
   "metadata": {},
   "outputs": [
    {
     "data": {
      "text/plain": [
       "{'rsi_paramas': [14, 21, 28],\n",
       " 'stochastic_params': [14, 3, 3],\n",
       " 'williams_r_params': [14, 21, 28],\n",
       " 'cci_params': [14, 21, 28],\n",
       " 'momentum_params': [10, 14, 20]}"
      ]
     },
     "execution_count": 13,
     "metadata": {},
     "output_type": "execute_result"
    }
   ],
   "source": [
    "momentum_params"
   ]
  },
  {
   "cell_type": "code",
   "execution_count": 14,
   "id": "bea2a8fc",
   "metadata": {},
   "outputs": [
    {
     "name": "stdout",
     "output_type": "stream",
     "text": [
      "==================================================\n",
      "VOLATILITY INDICATORS\n",
      "==================================================\n",
      " Available Fuctions \n",
      "1 add_atr \n",
      "2 add_bollinger_bands \n",
      "3 add_keltner_channels \n",
      "4 add_standard_deviation  \n",
      "5 generate_all_volatility_indicators\n",
      "==================================================\n"
     ]
    }
   ],
   "source": [
    "volatility = ForexVolatilityIndicators(data = df)"
   ]
  },
  {
   "cell_type": "code",
   "execution_count": 15,
   "id": "3c2497a6",
   "metadata": {},
   "outputs": [
    {
     "name": "stdout",
     "output_type": "stream",
     "text": [
      "[14, 21, 28]\n",
      "{'atr_params': [14, 21, 28]}\n",
      "[10]\n",
      "{'atr_params': [14, 21, 28], 'bb_params': [20, 2.0, 2.0], 'keltner_params': [20, 10, 2.0]}\n"
     ]
    },
    {
     "name": "stdout",
     "output_type": "stream",
     "text": [
      "==================================================\n",
      "Data Info\n",
      "<class 'pandas.core.frame.DataFrame'>\n",
      "DatetimeIndex: 38216 entries, 2017-04-24 02:00:00 to 2025-09-05 20:00:00\n",
      "Data columns (total 18 columns):\n",
      " #   Column                            Non-Null Count  Dtype  \n",
      "---  ------                            --------------  -----  \n",
      " 0   close                             38216 non-null  float64\n",
      " 1   atr_14                            38202 non-null  float64\n",
      " 2   atr_14_slope                      38201 non-null  float64\n",
      " 3   atr_21                            38195 non-null  float64\n",
      " 4   atr_21_slope                      38194 non-null  float64\n",
      " 5   atr_28                            38188 non-null  float64\n",
      " 6   atr_28_slope                      38187 non-null  float64\n",
      " 7   bb_20_2.0_2.0_upper               38197 non-null  float64\n",
      " 8   bb_20_2.0_2.0_middle              38197 non-null  float64\n",
      " 9   bb_20_2.0_2.0_lower               38197 non-null  float64\n",
      " 10  atr_10                            38206 non-null  float64\n",
      " 11  atr_10_slope                      38205 non-null  float64\n",
      " 12  keltner_ema_20_atr_10_2.0_middle  38197 non-null  float64\n",
      " 13  keltner_ema_20_atr_10_2.0_upper   38197 non-null  float64\n",
      " 14  keltner_ema_20_atr_10_2.0_lower   38197 non-null  float64\n",
      " 15  std_dev_20                        38197 non-null  float64\n",
      " 16  std_dev_50                        38167 non-null  float64\n",
      " 17  std_dev_100                       38117 non-null  float64\n",
      "dtypes: float64(18)\n",
      "memory usage: 5.5 MB\n",
      "None\n",
      "==================================================\n",
      "Shape of data (38216, 18)\n",
      "==================================================\n",
      "0 rows removed\n",
      "==================================================\n"
     ]
    }
   ],
   "source": [
    "volatility_data, volatility_params = volatility.generate_all_volatility_indicators()"
   ]
  },
  {
   "cell_type": "code",
   "execution_count": 16,
   "id": "a67f4296",
   "metadata": {},
   "outputs": [
    {
     "data": {
      "text/plain": [
       "{'atr_params': [14, 21, 28],\n",
       " 'bb_params': [20, 2.0, 2.0],\n",
       " 'keltner_params': [20, 10, 2.0],\n",
       " 'std_params': [20, 50, 100]}"
      ]
     },
     "execution_count": 16,
     "metadata": {},
     "output_type": "execute_result"
    }
   ],
   "source": [
    "volatility_params"
   ]
  },
  {
   "cell_type": "code",
   "execution_count": 17,
   "id": "45ffdc24",
   "metadata": {},
   "outputs": [
    {
     "name": "stdout",
     "output_type": "stream",
     "text": [
      "==================================================\n",
      "VOLUME INDICATORS\n",
      "==================================================\n",
      " Available Fuctions \n",
      "1 add_obv \n",
      "2 add_volume_sma \n",
      "3 add_volume_roc \n",
      "4 generate_all_volume_indicators\n",
      "==================================================\n"
     ]
    }
   ],
   "source": [
    "volume = ForexVolumeIndicators(data = df)"
   ]
  },
  {
   "cell_type": "code",
   "execution_count": 18,
   "id": "face9001",
   "metadata": {},
   "outputs": [
    {
     "name": "stdout",
     "output_type": "stream",
     "text": [
      "==================================================\n",
      "Data Info\n",
      "<class 'pandas.core.frame.DataFrame'>\n",
      "DatetimeIndex: 38216 entries, 2017-04-24 02:00:00 to 2025-09-05 20:00:00\n",
      "Data columns (total 15 columns):\n",
      " #   Column               Non-Null Count  Dtype  \n",
      "---  ------               --------------  -----  \n",
      " 0   close                38216 non-null  float64\n",
      " 1   obv                  38216 non-null  float64\n",
      " 2   obv_ma_ratio         38197 non-null  float64\n",
      " 3   volume_sma_5         38212 non-null  float64\n",
      " 4   volume_sma_5_ratio   48 non-null     float64\n",
      " 5   volume_sma_10        38207 non-null  float64\n",
      " 6   volume_sma_10_ratio  48 non-null     float64\n",
      " 7   volume_sma_20        38197 non-null  float64\n",
      " 8   volume_sma_20_ratio  48 non-null     float64\n",
      " 9   volume_sma_50        38167 non-null  float64\n",
      " 10  volume_sma_50_ratio  48 non-null     float64\n",
      " 11  volume_roc_5         48 non-null     float64\n",
      " 12  volume_roc_10        48 non-null     float64\n",
      " 13  volume_roc_14        48 non-null     float64\n",
      " 14  volume_roc_21        48 non-null     float64\n",
      "dtypes: float64(15)\n",
      "memory usage: 4.7 MB\n",
      "None\n",
      "==================================================\n",
      "Shape of data (38216, 15)\n",
      "==================================================\n",
      "0 rows removed\n",
      "==================================================\n"
     ]
    }
   ],
   "source": [
    "volume_data, volume_params = volume.generate_all_volume_indicators()"
   ]
  },
  {
   "cell_type": "code",
   "execution_count": 19,
   "id": "48d64a5c",
   "metadata": {},
   "outputs": [
    {
     "data": {
      "text/plain": [
       "{'obv_params': None,\n",
       " 'volume_sma_params': [5, 10, 20, 50],\n",
       " 'volume_roc_params': [5, 10, 14, 21]}"
      ]
     },
     "execution_count": 19,
     "metadata": {},
     "output_type": "execute_result"
    }
   ],
   "source": [
    "volume_params"
   ]
  }
 ],
 "metadata": {
  "kernelspec": {
   "display_name": "Python 3",
   "language": "python",
   "name": "python3"
  },
  "language_info": {
   "codemirror_mode": {
    "name": "ipython",
    "version": 3
   },
   "file_extension": ".py",
   "mimetype": "text/x-python",
   "name": "python",
   "nbconvert_exporter": "python",
   "pygments_lexer": "ipython3",
   "version": "3.9.23"
  }
 },
 "nbformat": 4,
 "nbformat_minor": 5
}
