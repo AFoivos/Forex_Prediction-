{
 "cells": [
  {
   "cell_type": "code",
   "execution_count": 1,
   "id": "b843efc8",
   "metadata": {},
   "outputs": [],
   "source": [
    "import pandas as pd\n",
    "import numpy as np\n",
    "import matplotlib.pyplot as plt\n",
    "import seaborn as sns\n",
    "import importlib.util\n",
    "import os\n",
    "import sys\n",
    "\n",
    "project_root = os.path.abspath(os.path.join(os.getcwd(), '..'))\n",
    "if project_root not in sys.path:\n",
    "    sys.path.append(project_root)\n",
    "    \n",
    "#file_path = os.path.join(project_root, 'src', 'data_handle', 'load_clean_first_look.py')\n",
    "from data_handle.data_load import ForexDataLoad\n",
    "from data_handle.quick_look import ForexQuickLook\n",
    "from data_handle.data_clean import ForexDataClean\n",
    "\n",
    "from features.indicators.trend import ForexTrendIndicators\n",
    "from features.indicators.momentum import ForexMomentumIndicators\n",
    "\n",
    "from plots.plotter import ForexPlotter\n",
    "\n",
    "import warnings\n",
    "warnings.filterwarnings('ignore')"
   ]
  },
  {
   "cell_type": "code",
   "execution_count": 2,
   "id": "caf7fb59",
   "metadata": {},
   "outputs": [
    {
     "name": "stdout",
     "output_type": "stream",
     "text": [
      "==================================================\n",
      "FOREX DATA LOADER\n",
      "==================================================\n",
      " Available Fuctions \n",
      "1 load_csv \n",
      "2 load_dataframe \n",
      "3 load_from_database\n",
      "==================================================\n",
      "Data loaded successfully!\n",
      "Shape: (38217, 5)\n",
      "\n",
      "==================================================\n"
     ]
    }
   ],
   "source": [
    "df = ForexDataLoad(file_path = '../data/xauaud.csv')"
   ]
  },
  {
   "cell_type": "code",
   "execution_count": 3,
   "id": "45ee32e8",
   "metadata": {},
   "outputs": [],
   "source": [
    "from features.tsfrash_extractor import ForexFeatureExtractor"
   ]
  },
  {
   "cell_type": "code",
   "execution_count": 6,
   "id": "32d5a91f",
   "metadata": {},
   "outputs": [
    {
     "name": "stdout",
     "output_type": "stream",
     "text": [
      "==================================================\n",
      "FEATURE EXTRACTION\n",
      "==================================================\n",
      "Available Functions: \n",
      "1. extract_features \n",
      "2. prepare_tsfresh_data \n",
      "3. select_relevant_features \n",
      "4. save_features \n",
      "5. load_features\n"
     ]
    }
   ],
   "source": [
    "tsdata = ForexFeatureExtractor(data = df.data)"
   ]
  },
  {
   "cell_type": "code",
   "execution_count": 7,
   "id": "cecb8c6d",
   "metadata": {},
   "outputs": [
    {
     "name": "stdout",
     "output_type": "stream",
     "text": [
      "==================================================\n",
      "Running fast extraction pipeline...\n",
      "==================================================\n",
      "Preparing data for TSfresh...\n",
      "==================================================\n",
      "Preparing data for TSfresh...\n",
      "==================================================\n",
      "Extracting features...\n",
      "==================================================\n",
      "Extracting features with TSfresh...\n",
      "==================================================\n",
      "==================================================\n",
      "Preparing data for TSfresh...\n",
      "==================================================\n"
     ]
    },
    {
     "name": "stderr",
     "output_type": "stream",
     "text": [
      "Feature Extraction:   0%|          | 0/5 [00:00<?, ?it/s]"
     ]
    },
    {
     "ename": "",
     "evalue": "",
     "output_type": "error",
     "traceback": [
      "\u001b[1;31mThe Kernel crashed while executing code in the current cell or a previous cell. \n",
      "\u001b[1;31mPlease review the code in the cell(s) to identify a possible cause of the failure. \n",
      "\u001b[1;31mClick <a href='https://aka.ms/vscodeJupyterKernelCrash'>here</a> for more info. \n",
      "\u001b[1;31mView Jupyter <a href='command:jupyter.viewOutput'>log</a> for further details."
     ]
    }
   ],
   "source": [
    "tsdata.fast_extract_features(target_column = 'close')"
   ]
  },
  {
   "cell_type": "code",
   "execution_count": null,
   "id": "b5ec0b6f",
   "metadata": {},
   "outputs": [],
   "source": []
  }
 ],
 "metadata": {
  "kernelspec": {
   "display_name": "dpenv",
   "language": "python",
   "name": "python3"
  },
  "language_info": {
   "codemirror_mode": {
    "name": "ipython",
    "version": 3
   },
   "file_extension": ".py",
   "mimetype": "text/x-python",
   "name": "python",
   "nbconvert_exporter": "python",
   "pygments_lexer": "ipython3",
   "version": "3.10.13"
  }
 },
 "nbformat": 4,
 "nbformat_minor": 5
}
