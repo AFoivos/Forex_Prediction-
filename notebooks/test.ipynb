{
 "cells": [
  {
   "cell_type": "code",
   "execution_count": 1,
   "id": "b843efc8",
   "metadata": {},
   "outputs": [],
   "source": [
    "import pandas as pd\n",
    "import numpy as np\n",
    "import matplotlib.pyplot as plt\n",
    "import seaborn as sns\n",
    "import importlib.util\n",
    "import os\n",
    "import sys\n",
    "\n",
    "project_root = os.path.abspath(os.path.join(os.getcwd(), '..'))\n",
    "if project_root not in sys.path:\n",
    "    sys.path.append(project_root)\n",
    "    \n",
    "#file_path = os.path.join(project_root, 'src', 'data_handle', 'load_clean_first_look.py')\n",
    "from src.data_handle.data_load import ForexDataLoad\n",
    "from src.data_handle.first_look import ForexFirstLook\n",
    "from src.data_handle.data_clean import ForexDataClean\n",
    "from src.features.indicators import ForexTechnicalIndicators\n",
    "\n",
    "\n",
    "import warnings\n",
    "warnings.filterwarnings('ignore')"
   ]
  },
  {
   "cell_type": "code",
   "execution_count": 2,
   "id": "caf7fb59",
   "metadata": {},
   "outputs": [
    {
     "name": "stdout",
     "output_type": "stream",
     "text": [
      "Data loaded successfully!\n",
      "Shape: (38217, 6)\n",
      "\n",
      "==================================================\n"
     ]
    }
   ],
   "source": [
    "df = ForexDataLoad(file_path = '../data/xauaud.csv')\n",
    "\n"
   ]
  },
  {
   "cell_type": "code",
   "execution_count": 3,
   "id": "f61326d1",
   "metadata": {},
   "outputs": [
    {
     "name": "stdout",
     "output_type": "stream",
     "text": [
      "Data loaded successfully from DataFrame!\n",
      "Shape: (38217, 6)\n",
      "\n",
      "==================================================\n",
      "==================================================\n",
      "DATA CLEANING SUMMARY\n",
      "==================================================\n",
      "Initial data: 38217 rows, 6 columns\n",
      "Missing values: 1 initially\n",
      "Duplicates removed: 0\n",
      "Missing values filled: 1\n",
      "==================================================\n",
      "Final data: 38217 rows, 6 columns\n",
      "Remaining missing values: 0\n",
      "Cleaning successful: True\n",
      "==================================================\n"
     ]
    }
   ],
   "source": [
    "clean_data = ForexDataClean(df= df.data).data"
   ]
  },
  {
   "cell_type": "code",
   "execution_count": 4,
   "id": "5e4bd26a",
   "metadata": {},
   "outputs": [
    {
     "name": "stdout",
     "output_type": "stream",
     "text": [
      "Data shape: (38217, 6)\n",
      "Date range: 2017-04-24 01:00:00 to 2025-09-05 20:00:00\n",
      "                           date      time     open     high     low    close\n",
      "datetime                                                                    \n",
      "2017-04-24 01:00:00  2017.04.24  01:00:00  1678.43  1687.45  1681.3  1685.98\n",
      "2017-04-24 02:00:00  2017.04.24  02:00:00  1686.03  1686.15  1681.3  1682.15\n",
      "2017-04-24 03:00:00  2017.04.24  03:00:00  1682.11  1691.44  1681.9  1689.13\n",
      "==================================================\n",
      "                           date      time     open     high      low    close\n",
      "datetime                                                                     \n",
      "2025-09-05 18:00:00  2025.09.05  18:00:00  5474.54  5477.82  5459.37  5468.49\n",
      "2025-09-05 19:00:00  2025.09.05  19:00:00  5468.33  5483.78  5466.57  5476.84\n",
      "2025-09-05 20:00:00  2025.09.05  20:00:00  5476.98  5479.45  5474.51  5477.23\n",
      "==================================================\n",
      "Available methods:\n",
      " - display_info()\n",
      " - check_missing_values_and_duplicates()\n",
      " - clean_data()\n",
      " - plot_candlestick()\n",
      " - plot_time_series()\n",
      " - get_summary()\n",
      " - full_analysis() -- performs all the above methods in sequence\n",
      "==================================================\n"
     ]
    }
   ],
   "source": [
    "first_look = ForexFirstLook(df = clean_data)"
   ]
  },
  {
   "cell_type": "code",
   "execution_count": 5,
   "id": "4c6fb7d7",
   "metadata": {},
   "outputs": [
    {
     "name": "stdout",
     "output_type": "stream",
     "text": [
      "DATASET INFORMATION\n",
      "==================================================\n",
      "\n",
      "1. BASIC INFO:\n",
      "<class 'pandas.core.frame.DataFrame'>\n",
      "DatetimeIndex: 38217 entries, 2017-04-24 01:00:00 to 2025-09-05 20:00:00\n",
      "Data columns (total 6 columns):\n",
      " #   Column  Non-Null Count  Dtype  \n",
      "---  ------  --------------  -----  \n",
      " 0   date    38217 non-null  object \n",
      " 1   time    38217 non-null  object \n",
      " 2   open    38217 non-null  float64\n",
      " 3   high    38217 non-null  float64\n",
      " 4   low     38217 non-null  float64\n",
      " 5   close   38217 non-null  float64\n",
      "dtypes: float64(4), object(2)\n",
      "memory usage: 2.0+ MB\n",
      "None\n",
      "==================================================\n",
      "\n",
      "2. FIRST 3 ROWS:\n",
      "                           date      time     open     high     low    close\n",
      "datetime                                                                    \n",
      "2017-04-24 01:00:00  2017.04.24  01:00:00  1678.43  1687.45  1681.3  1685.98\n",
      "2017-04-24 02:00:00  2017.04.24  02:00:00  1686.03  1686.15  1681.3  1682.15\n",
      "2017-04-24 03:00:00  2017.04.24  03:00:00  1682.11  1691.44  1681.9  1689.13\n",
      "==================================================\n",
      "\n",
      "3. LAST 3 ROWS:\n",
      "                           date      time     open     high      low    close\n",
      "datetime                                                                     \n",
      "2025-09-05 18:00:00  2025.09.05  18:00:00  5474.54  5477.82  5459.37  5468.49\n",
      "2025-09-05 19:00:00  2025.09.05  19:00:00  5468.33  5483.78  5466.57  5476.84\n",
      "2025-09-05 20:00:00  2025.09.05  20:00:00  5476.98  5479.45  5474.51  5477.23\n",
      "==================================================\n",
      "\n",
      "4. STATISTICAL DESCRIPTION:\n",
      "               open          high           low         close\n",
      "count  38217.000000  38217.000000  38217.000000  38217.000000\n",
      "mean    2947.377283   2951.500152   2943.297309   2947.472563\n",
      "std      841.321893    842.831155    839.887100    841.412578\n",
      "min     1674.100000   1676.910000   1671.600000   1672.210000\n",
      "25%     2441.710000   2444.900000   2437.780000   2441.740000\n",
      "50%     2647.790000   2652.150000   2643.680000   2647.830000\n",
      "75%     3090.290000   3093.330000   3087.310000   3090.530000\n",
      "max     5476.980000   5483.780000   5474.510000   5477.230000\n",
      "==================================================\n",
      "\n",
      "6. DATA TYPES:\n",
      "date      object\n",
      "time      object\n",
      "open     float64\n",
      "high     float64\n",
      "low      float64\n",
      "close    float64\n",
      "dtype: object\n",
      "==================================================\n",
      "\n",
      "7. INDEX INFORMATION:\n",
      "Index name: datetime\n",
      "Index type: <class 'pandas.core.indexes.datetimes.DatetimeIndex'>\n",
      "==================================================\n"
     ]
    }
   ],
   "source": [
    "first_look.display_info()"
   ]
  },
  {
   "cell_type": "code",
   "execution_count": 6,
   "id": "a2f5ff67",
   "metadata": {},
   "outputs": [
    {
     "name": "stdout",
     "output_type": "stream",
     "text": [
      "Data loaded successfully!\n",
      "Shape: (38217, 6)\n",
      "\n",
      "==================================================\n",
      "CALCULATING ALL TECHNICAL INDICATORS WITH TA-LIB\n",
      "============================================================\n",
      "CALCULATING MOVING AVERAGES WITH TA-LIB\n",
      "==================================================\n",
      " Calculated SMA_5 and EMA_5\n",
      " Calculated SMA_10 and EMA_10\n",
      " Calculated SMA_20 and EMA_20\n",
      " Calculated SMA_50 and EMA_50\n",
      " Calculated SMA_200 and EMA_200\n",
      "\n",
      "CALCULATING RSI (14) WITH TA-LIB\n",
      "==================================================\n",
      " RSI_14 calculated\n",
      "\n",
      "CALCULATING MACD (12, 26, 9) WITH TA-LIB\n",
      "==================================================\n",
      " MACD, Signal Line, and Histogram calculated\n",
      "\n",
      "CALCULATING BOLLINGER BANDS (20, 2σ) WITH TA-LIB\n",
      "==================================================\n",
      " Bollinger Bands calculated\n",
      "\n",
      "CALCULATING STOCHASTIC OSCILLATOR (14, 3) WITH TA-LIB\n",
      "==================================================\n",
      " Stochastic Oscillator calculated\n",
      "\n",
      "CALCULATING AVERAGE TRUE RANGE (14) WITH TA-LIB\n",
      "==================================================\n",
      " Average True Range calculated\n",
      "\n",
      "CALCULATING ADX (14) WITH TA-LIB\n",
      "==================================================\n",
      " ADX calculated\n",
      "\n",
      "CALCULATING LAGGED FEATURES (5 lags)\n",
      "==================================================\n",
      " Created Close_Lag_1\n",
      " Created Close_Lag_2\n",
      " Created Close_Lag_3\n",
      " Created Close_Lag_4\n",
      " Created Close_Lag_5\n",
      " Created Return_Lag_1\n",
      " Created Return_Lag_2\n",
      " Created Return_Lag_3\n",
      " Created Return_Lag_4\n",
      " Created Return_Lag_5\n",
      "Data loaded successfully from DataFrame!\n",
      "Shape: (38217, 38)\n",
      "\n",
      "==================================================\n",
      "==================================================\n",
      "DATA CLEANING SUMMARY\n",
      "==================================================\n",
      "Initial data: 38217 rows, 38 columns\n",
      "Missing values: 859 initially\n",
      "Duplicates removed: 0\n",
      "Missing values dropped: 199\n",
      "==================================================\n",
      "Final data: 38018 rows, 38 columns\n",
      "Remaining missing values: 0\n",
      "Cleaning successful: True\n",
      "==================================================\n"
     ]
    }
   ],
   "source": [
    "data_with_indicators = ForexTechnicalIndicators( df= clean_data).calculate_all_indicators().data"
   ]
  },
  {
   "cell_type": "code",
   "execution_count": null,
   "id": "0d26300b",
   "metadata": {},
   "outputs": [],
   "source": []
  }
 ],
 "metadata": {
  "kernelspec": {
   "display_name": "dpenv",
   "language": "python",
   "name": "python3"
  },
  "language_info": {
   "codemirror_mode": {
    "name": "ipython",
    "version": 3
   },
   "file_extension": ".py",
   "mimetype": "text/x-python",
   "name": "python",
   "nbconvert_exporter": "python",
   "pygments_lexer": "ipython3",
   "version": "3.10.13"
  }
 },
 "nbformat": 4,
 "nbformat_minor": 5
}
