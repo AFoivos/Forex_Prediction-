{
 "cells": [
  {
   "cell_type": "code",
   "execution_count": 1,
   "id": "b843efc8",
   "metadata": {},
   "outputs": [],
   "source": [
    "import pandas as pd\n",
    "import numpy as np\n",
    "import matplotlib.pyplot as plt\n",
    "import seaborn as sns\n",
    "import importlib.util\n",
    "import os\n",
    "import sys\n",
    "\n",
    "project_root = os.path.abspath(os.path.join(os.getcwd(), '..'))\n",
    "if project_root not in sys.path:\n",
    "    sys.path.append(project_root)\n",
    "    \n",
    "#file_path = os.path.join(project_root, 'src', 'data_handle', 'load_clean_first_look.py')\n",
    "from src.data_handle.data_load import ForexDataLoad\n",
    "from src.data_handle.first_look import ForexFirstLook\n",
    "from src.data_handle.data_clean import ForexDataClean\n",
    "\n",
    "import warnings\n",
    "warnings.filterwarnings('ignore')"
   ]
  },
  {
   "cell_type": "code",
   "execution_count": 2,
   "id": "caf7fb59",
   "metadata": {},
   "outputs": [
    {
     "name": "stdout",
     "output_type": "stream",
     "text": [
      "Data loaded successfully!\n",
      "Shape: (38217, 7)\n",
      "\n",
      "==================================================\n"
     ]
    }
   ],
   "source": [
    "df = ForexDataLoad(file_path = '../data/xauaud.csv')"
   ]
  },
  {
   "cell_type": "code",
   "execution_count": 3,
   "id": "8dce191f",
   "metadata": {},
   "outputs": [
    {
     "data": {
      "text/plain": [
       "'datetime'"
      ]
     },
     "execution_count": 3,
     "metadata": {},
     "output_type": "execute_result"
    }
   ],
   "source": [
    "df.data.index.name"
   ]
  },
  {
   "cell_type": "code",
   "execution_count": 4,
   "id": "65478a89",
   "metadata": {},
   "outputs": [
    {
     "name": "stdout",
     "output_type": "stream",
     "text": [
      "DATASET INFORMATION\n",
      "==================================================\n",
      "\n",
      "1. BASIC INFO:\n",
      "<class 'pandas.core.frame.DataFrame'>\n",
      "DatetimeIndex: 48 entries, 2025-09-03 19:00:00 to 2025-09-05 20:00:00\n",
      "Data columns (total 7 columns):\n",
      " #   Column  Non-Null Count  Dtype  \n",
      "---  ------  --------------  -----  \n",
      " 0   date    48 non-null     object \n",
      " 1   time    48 non-null     object \n",
      " 2   open    48 non-null     float64\n",
      " 3   high    48 non-null     float64\n",
      " 4   low     48 non-null     float64\n",
      " 5   close   48 non-null     float64\n",
      " 6   volume  48 non-null     int64  \n",
      "dtypes: float64(4), int64(1), object(2)\n",
      "memory usage: 3.0+ KB\n",
      "None\n",
      "==================================================\n",
      "\n",
      "2. FIRST 3 ROWS:\n",
      "                           date      time     open     high      low    close  \\\n",
      "datetime                                                                        \n",
      "2025-09-03 19:00:00  2025.09.03  19:00:00  5441.48  5452.88  5439.54  5452.58   \n",
      "2025-09-03 20:00:00  2025.09.03  20:00:00  5452.56  5462.86  5447.80  5461.05   \n",
      "2025-09-03 21:00:00  2025.09.03  21:00:00  5461.05  5465.36  5446.87  5454.38   \n",
      "\n",
      "                     volume  \n",
      "datetime                     \n",
      "2025-09-03 19:00:00       0  \n",
      "2025-09-03 20:00:00       0  \n",
      "2025-09-03 21:00:00       0  \n",
      "==================================================\n",
      "\n",
      "3. LAST 3 ROWS:\n",
      "                           date      time     open     high      low    close  \\\n",
      "datetime                                                                        \n",
      "2025-09-05 18:00:00  2025.09.05  18:00:00  5474.54  5477.82  5459.37  5468.49   \n",
      "2025-09-05 19:00:00  2025.09.05  19:00:00  5468.33  5483.78  5466.57  5476.84   \n",
      "2025-09-05 20:00:00  2025.09.05  20:00:00  5476.98  5479.45  5474.51  5477.23   \n",
      "\n",
      "                     volume  \n",
      "datetime                     \n",
      "2025-09-05 18:00:00       0  \n",
      "2025-09-05 19:00:00       0  \n",
      "2025-09-05 20:00:00       0  \n",
      "==================================================\n",
      "\n",
      "4. STATISTICAL DESCRIPTION:\n",
      "              open         high          low        close  volume\n",
      "count    48.000000    48.000000    48.000000    48.000000    48.0\n",
      "mean   5438.725417  5446.485000  5430.663333  5439.582500     0.0\n",
      "std      16.712627    16.845833    18.298108    17.595281     0.0\n",
      "min    5400.600000  5403.360000  5371.590000  5400.600000     0.0\n",
      "25%    5428.125000  5435.802500  5422.315000  5428.132500     0.0\n",
      "50%    5440.085000  5447.770000  5431.140000  5440.635000     0.0\n",
      "75%    5447.782500  5454.600000  5440.407500  5447.977500     0.0\n",
      "max    5476.980000  5483.780000  5474.510000  5477.230000     0.0\n",
      "==================================================\n",
      "\n",
      "6. DATA TYPES:\n",
      "date       object\n",
      "time       object\n",
      "open      float64\n",
      "high      float64\n",
      "low       float64\n",
      "close     float64\n",
      "volume      int64\n",
      "dtype: object\n",
      "==================================================\n",
      "\n",
      "7. INDEX INFORMATION:\n",
      "Index name: datetime\n",
      "Index type: <class 'pandas.core.indexes.datetimes.DatetimeIndex'>\n",
      "==================================================\n",
      "MISSING VALUES ANALYSIS\n",
      "==================================================\n",
      "\n",
      "1. NaN VALUES PER COLUMN:\n",
      "date      0\n",
      "time      0\n",
      "open      0\n",
      "high      0\n",
      "low       0\n",
      "close     0\n",
      "volume    0\n",
      "dtype: int64\n",
      "==================================================\n",
      "\n",
      "2. DUPLICATE ROWS: 0\n",
      "==================================================\n",
      "\n",
      "3. MISSING VALUES PER COLUMN:\n",
      "date      0\n",
      "time      0\n",
      "open      0\n",
      "high      0\n",
      "low       0\n",
      "close     0\n",
      "volume    0\n",
      "dtype: int64\n",
      "==================================================\n",
      "\n",
      "4. TOTAL MISSING VALUES: 0\n",
      "==================================================\n",
      "\n",
      "5. MISSING VALUES PERCENTAGE:\n",
      "date      0.0\n",
      "time      0.0\n",
      "open      0.0\n",
      "high      0.0\n",
      "low       0.0\n",
      "close     0.0\n",
      "volume    0.0\n",
      "dtype: float64\n",
      "==================================================\n",
      "\n",
      "6. INFINITE VALUES:\n",
      "open      0\n",
      "high      0\n",
      "low       0\n",
      "close     0\n",
      "volume    0\n",
      "dtype: int64\n",
      "==================================================\n"
     ]
    },
    {
     "data": {
      "text/plain": [
       "<Figure size 1500x600 with 0 Axes>"
      ]
     },
     "metadata": {},
     "output_type": "display_data"
    },
    {
     "data": {
      "image/png": "[encoded data removed]",
      "text/plain": [
       "<Figure size 1293.75x690 with 2 Axes>"
      ]
     },
     "metadata": {},
     "output_type": "display_data"
    },
    {
     "data": {
      "image/png": "[encoded data removed]",
      "text/plain": [
       "<Figure size 1500x600 with 1 Axes>"
      ]
     },
     "metadata": {},
     "output_type": "display_data"
    },
    {
     "name": "stdout",
     "output_type": "stream",
     "text": [
      "DATASET SUMMARY\n",
      "==================================================\n",
      "Total Rows: 48\n",
      "Total Columns: 7\n",
      "Date Range: 2025-09-03 19:00:00 to 2025-09-05 20:00:00\n",
      "Numeric Columns: ['open', 'high', 'low', 'close', 'volume']\n",
      "Non Numeric Columns: ['date', 'time']\n",
      "Missing Values: 0\n",
      "Duplicates: 0\n",
      "Columns: Index(['date', 'time', 'open', 'high', 'low', 'close', 'volume'], dtype='object')\n",
      "Index Column: datetime\n",
      "==================================================\n"
     ]
    }
   ],
   "source": [
    "quick_look = ForexFirstLook(df.data, periods = 48, full_look =  True)"
   ]
  },
  {
   "cell_type": "code",
   "execution_count": 5,
   "id": "c6bbdb5a",
   "metadata": {},
   "outputs": [
    {
     "name": "stdout",
     "output_type": "stream",
     "text": [
      "==================================================\n",
      "Keep = first and subset = None\n",
      "Removed 0 duplicate entries\n",
      "Found 1 missing values\n",
      " dropped: 1 missing values .\n",
      "==================================================\n",
      "OHLC DATA INTEGRITY VALIDATION\n",
      "==================================================\n",
      "No OHLC integrity violations found\n",
      "All OHLC values are consistent\n"
     ]
    }
   ],
   "source": [
    "cleaner = ForexDataClean(data = df.data, fast_clean = True)"
   ]
  },
  {
   "cell_type": "code",
   "execution_count": 6,
   "id": "b18ac334",
   "metadata": {},
   "outputs": [
    {
     "name": "stdout",
     "output_type": "stream",
     "text": [
      "==================================================\n",
      "OUTLIER DETECTION AND HANDLING\n",
      "==================================================\n",
      "Method: quantile, Strategy: cap, Threshold: 3.0\n",
      "Remove outliers: False\n",
      "--------------------------------------------------\n",
      "⏭️  Skipping non-numeric column: date\n",
      "⏭️  Skipping non-numeric column: time\n",
      "open: Found 766 outliers (383 low, 383 high)\n",
      "Bounds: [1817.81300 - 5218.90300]\n",
      "Original range: [1674.10000 - 5476.98000]\n",
      "Method: Quantile (1%-99%)\n",
      "Outliers detected but not removed (remove=False)\n",
      "\n",
      "high: Found 764 outliers (381 low, 383 high)\n",
      "Bounds: [1819.15000 - 5224.87300]\n",
      "Original range: [1676.91000 - 5483.78000]\n",
      "Method: Quantile (1%-99%)\n",
      "Outliers detected but not removed (remove=False)\n",
      "\n",
      "low: Found 766 outliers (383 low, 383 high)\n",
      "Bounds: [1816.29450 - 5211.65900]\n",
      "Original range: [1671.60000 - 5474.51000]\n",
      "Method: Quantile (1%-99%)\n",
      "Outliers detected but not removed (remove=False)\n",
      "\n",
      "close: Found 766 outliers (383 low, 383 high)\n",
      "Bounds: [1817.85250 - 5218.90300]\n",
      "Original range: [1672.21000 - 5477.23000]\n",
      "Method: Quantile (1%-99%)\n",
      "Outliers detected but not removed (remove=False)\n",
      "\n",
      "volume: Found 48 outliers (0 low, 48 high)\n",
      "Bounds: [0.00000 - 0.00000]\n",
      "Original range: [0.00000 - 9910.00000]\n",
      "Method: Quantile (1%-99%)\n",
      "Outliers detected but not removed (remove=False)\n",
      "\n",
      "==================================================\n",
      "SUMMARY: Found 3110 outliers (not removed)\n",
      "Use remove=True to handle these outliers\n",
      "==================================================\n"
     ]
    },
    {
     "data": {
      "application/vnd.microsoft.datawrangler.viewer.v0+json": {
       "columns": [
        {
         "name": "datetime",
         "rawType": "datetime64[ns]",
         "type": "datetime"
        },
        {
         "name": "date",
         "rawType": "object",
         "type": "string"
        },
        {
         "name": "time",
         "rawType": "object",
         "type": "string"
        },
        {
         "name": "open",
         "rawType": "float64",
         "type": "float"
        },
        {
         "name": "high",
         "rawType": "float64",
         "type": "float"
        },
        {
         "name": "low",
         "rawType": "float64",
         "type": "float"
        },
        {
         "name": "close",
         "rawType": "float64",
         "type": "float"
        },
        {
         "name": "volume",
         "rawType": "int64",
         "type": "integer"
        }
       ],
       "ref": "4e1af561-5ba3-4baa-b900-af929e186d88",
       "rows": [
        [
         "2017-04-24 02:00:00",
         "2017.04.24",
         "02:00:00",
         "1686.03",
         "1686.15",
         "1681.3",
         "1682.15",
         "4146"
        ],
        [
         "2017-04-24 03:00:00",
         "2017.04.24",
         "03:00:00",
         "1682.11",
         "1691.44",
         "1681.9",
         "1689.13",
         "4329"
        ],
        [
         "2017-04-24 04:00:00",
         "2017.04.24",
         "04:00:00",
         "1689.09",
         "1689.24",
         "1685.89",
         "1687.68",
         "2609"
        ],
        [
         "2017-04-24 05:00:00",
         "2017.04.24",
         "05:00:00",
         "1687.65",
         "1688.84",
         "1686.15",
         "1688.36",
         "1592"
        ],
        [
         "2017-04-24 06:00:00",
         "2017.04.24",
         "06:00:00",
         "1688.34",
         "1689.59",
         "1686.91",
         "1687.06",
         "1275"
        ],
        [
         "2017-04-24 07:00:00",
         "2017.04.24",
         "07:00:00",
         "1687.02",
         "1688.19",
         "1681.79",
         "1683.22",
         "3249"
        ],
        [
         "2017-04-24 08:00:00",
         "2017.04.24",
         "08:00:00",
         "1683.25",
         "1683.37",
         "1679.14",
         "1680.75",
         "9336"
        ],
        [
         "2017-04-24 09:00:00",
         "2017.04.24",
         "09:00:00",
         "1680.79",
         "1682.35",
         "1679.84",
         "1680.24",
         "5874"
        ],
        [
         "2017-04-24 10:00:00",
         "2017.04.24",
         "10:00:00",
         "1680.29",
         "1681.36",
         "1678.27",
         "1678.78",
         "3842"
        ],
        [
         "2017-04-24 11:00:00",
         "2017.04.24",
         "11:00:00",
         "1678.73",
         "1679.56",
         "1677.2",
         "1678.77",
         "3147"
        ],
        [
         "2017-04-24 12:00:00",
         "2017.04.24",
         "12:00:00",
         "1678.67",
         "1678.67",
         "1675.92",
         "1677.68",
         "3143"
        ],
        [
         "2017-04-24 13:00:00",
         "2017.04.24",
         "13:00:00",
         "1677.72",
         "1680.09",
         "1677.58",
         "1677.67",
         "3638"
        ],
        [
         "2017-04-24 14:00:00",
         "2017.04.24",
         "14:00:00",
         "1677.61",
         "1679.96",
         "1673.41",
         "1679.12",
         "7026"
        ],
        [
         "2017-04-24 15:00:00",
         "2017.04.24",
         "15:00:00",
         "1679.06",
         "1680.86",
         "1676.66",
         "1678.48",
         "7867"
        ],
        [
         "2017-04-24 16:00:00",
         "2017.04.24",
         "16:00:00",
         "1678.58",
         "1684.06",
         "1678.25",
         "1681.68",
         "9910"
        ],
        [
         "2017-04-24 17:00:00",
         "2017.04.24",
         "17:00:00",
         "1681.72",
         "1688.11",
         "1680.27",
         "1687.06",
         "9408"
        ],
        [
         "2017-04-24 18:00:00",
         "2017.04.24",
         "18:00:00",
         "1687.09",
         "1687.59",
         "1685.37",
         "1686.78",
         "4214"
        ],
        [
         "2017-04-24 19:00:00",
         "2017.04.24",
         "19:00:00",
         "1686.83",
         "1688.55",
         "1684.57",
         "1687.32",
         "3810"
        ],
        [
         "2017-04-24 20:00:00",
         "2017.04.24",
         "20:00:00",
         "1687.28",
         "1688.36",
         "1685.34",
         "1687.13",
         "4667"
        ],
        [
         "2017-04-24 21:00:00",
         "2017.04.24",
         "21:00:00",
         "1687.06",
         "1688.49",
         "1685.94",
         "1687.25",
         "4104"
        ],
        [
         "2017-04-24 22:00:00",
         "2017.04.24",
         "22:00:00",
         "1687.2",
         "1687.66",
         "1682.89",
         "1684.17",
         "1428"
        ],
        [
         "2017-04-25 01:00:00",
         "2017.04.25",
         "01:00:00",
         "1685.4",
         "1690.55",
         "1685.28",
         "1689.75",
         "2415"
        ],
        [
         "2017-04-25 02:00:00",
         "2017.04.25",
         "02:00:00",
         "1689.87",
         "1690.0",
         "1687.36",
         "1688.03",
         "4297"
        ],
        [
         "2017-04-25 03:00:00",
         "2017.04.25",
         "03:00:00",
         "1688.07",
         "1688.16",
         "1684.71",
         "1685.34",
         "2309"
        ],
        [
         "2017-04-25 04:00:00",
         "2017.04.25",
         "04:00:00",
         "1685.44",
         "1686.26",
         "1684.25",
         "1685.79",
         "2444"
        ],
        [
         "2017-04-25 05:00:00",
         "2017.04.25",
         "05:00:00",
         "1685.83",
         "1686.67",
         "1685.24",
         "1686.61",
         "1375"
        ],
        [
         "2017-04-25 06:00:00",
         "2017.04.25",
         "06:00:00",
         "1686.65",
         "1686.83",
         "1684.67",
         "1685.3",
         "1277"
        ],
        [
         "2017-04-25 07:00:00",
         "2017.04.25",
         "07:00:00",
         "1685.21",
         "1685.68",
         "1684.25",
         "1684.9",
         "1806"
        ],
        [
         "2017-04-25 08:00:00",
         "2017.04.25",
         "08:00:00",
         "1684.88",
         "1686.27",
         "1681.89",
         "1683.0",
         "2672"
        ],
        [
         "2017-04-25 09:00:00",
         "2017.04.25",
         "09:00:00",
         "1683.04",
         "1687.7",
         "1682.99",
         "1686.94",
         "6100"
        ],
        [
         "2017-04-25 10:00:00",
         "2017.04.25",
         "10:00:00",
         "1686.98",
         "1687.15",
         "1684.67",
         "1685.6",
         "6658"
        ],
        [
         "2017-04-25 11:00:00",
         "2017.04.25",
         "11:00:00",
         "1685.71",
         "1689.04",
         "1684.95",
         "1688.4",
         "6286"
        ],
        [
         "2017-04-25 12:00:00",
         "2017.04.25",
         "12:00:00",
         "1688.43",
         "1689.08",
         "1687.13",
         "1687.76",
         "3400"
        ],
        [
         "2017-04-25 13:00:00",
         "2017.04.25",
         "13:00:00",
         "1687.79",
         "1687.85",
         "1683.42",
         "1684.43",
         "3923"
        ],
        [
         "2017-04-25 14:00:00",
         "2017.04.25",
         "14:00:00",
         "1684.47",
         "1685.08",
         "1681.17",
         "1682.57",
         "9278"
        ],
        [
         "2017-04-25 15:00:00",
         "2017.04.25",
         "15:00:00",
         "1682.52",
         "1685.37",
         "1681.63",
         "1681.83",
         "9096"
        ],
        [
         "2017-04-25 16:00:00",
         "2017.04.25",
         "16:00:00",
         "1681.76",
         "1684.48",
         "1680.41",
         "1680.87",
         "8563"
        ],
        [
         "2017-04-25 17:00:00",
         "2017.04.25",
         "17:00:00",
         "1680.84",
         "1682.36",
         "1680.16",
         "1681.19",
         "5815"
        ],
        [
         "2017-04-25 18:00:00",
         "2017.04.25",
         "18:00:00",
         "1681.15",
         "1681.19",
         "1674.51",
         "1678.52",
         "6585"
        ],
        [
         "2017-04-25 19:00:00",
         "2017.04.25",
         "19:00:00",
         "1678.67",
         "1679.92",
         "1677.03",
         "1678.02",
         "3116"
        ],
        [
         "2017-04-25 20:00:00",
         "2017.04.25",
         "20:00:00",
         "1678.07",
         "1678.75",
         "1675.89",
         "1677.35",
         "2840"
        ],
        [
         "2017-04-25 21:00:00",
         "2017.04.25",
         "21:00:00",
         "1677.29",
         "1677.93",
         "1675.49",
         "1676.6",
         "2817"
        ],
        [
         "2017-04-25 22:00:00",
         "2017.04.25",
         "22:00:00",
         "1676.64",
         "1677.21",
         "1672.21",
         "1672.21",
         "874"
        ],
        [
         "2017-04-26 01:00:00",
         "2017.04.26",
         "01:00:00",
         "1675.43",
         "1677.67",
         "1675.13",
         "1676.31",
         "1421"
        ],
        [
         "2017-04-26 02:00:00",
         "2017.04.26",
         "02:00:00",
         "1676.19",
         "1676.91",
         "1671.75",
         "1674.07",
         "2969"
        ],
        [
         "2017-04-26 03:00:00",
         "2017.04.26",
         "03:00:00",
         "1674.1",
         "1683.69",
         "1671.6",
         "1681.56",
         "3764"
        ],
        [
         "2017-04-26 04:00:00",
         "2017.04.26",
         "04:00:00",
         "1681.61",
         "1684.35",
         "1681.38",
         "1682.93",
         "1986"
        ],
        [
         "2017-04-26 05:00:00",
         "2017.04.26",
         "05:00:00",
         "1682.89",
         "1683.16",
         "1681.99",
         "1682.0",
         "300"
        ],
        [
         "2019-03-21 02:00:00",
         "2019.03.21",
         "02:00:00",
         "1844.58",
         "1844.85",
         "1843.64",
         "1843.88",
         "0"
        ],
        [
         "2019-03-21 03:00:00",
         "2019.03.21",
         "03:00:00",
         "1843.85",
         "1844.02",
         "1835.53",
         "1836.82",
         "0"
        ]
       ],
       "shape": {
        "columns": 7,
        "rows": 38216
       }
      },
      "text/html": [
       "<div>\n",
       "<style scoped>\n",
       "    .dataframe tbody tr th:only-of-type {\n",
       "        vertical-align: middle;\n",
       "    }\n",
       "\n",
       "    .dataframe tbody tr th {\n",
       "        vertical-align: top;\n",
       "    }\n",
       "\n",
       "    .dataframe thead th {\n",
       "        text-align: right;\n",
       "    }\n",
       "</style>\n",
       "<table border=\"1\" class=\"dataframe\">\n",
       "  <thead>\n",
       "    <tr style=\"text-align: right;\">\n",
       "      <th></th>\n",
       "      <th>date</th>\n",
       "      <th>time</th>\n",
       "      <th>open</th>\n",
       "      <th>high</th>\n",
       "      <th>low</th>\n",
       "      <th>close</th>\n",
       "      <th>volume</th>\n",
       "    </tr>\n",
       "    <tr>\n",
       "      <th>datetime</th>\n",
       "      <th></th>\n",
       "      <th></th>\n",
       "      <th></th>\n",
       "      <th></th>\n",
       "      <th></th>\n",
       "      <th></th>\n",
       "      <th></th>\n",
       "    </tr>\n",
       "  </thead>\n",
       "  <tbody>\n",
       "    <tr>\n",
       "      <th>2017-04-24 02:00:00</th>\n",
       "      <td>2017.04.24</td>\n",
       "      <td>02:00:00</td>\n",
       "      <td>1686.03</td>\n",
       "      <td>1686.15</td>\n",
       "      <td>1681.30</td>\n",
       "      <td>1682.15</td>\n",
       "      <td>4146</td>\n",
       "    </tr>\n",
       "    <tr>\n",
       "      <th>2017-04-24 03:00:00</th>\n",
       "      <td>2017.04.24</td>\n",
       "      <td>03:00:00</td>\n",
       "      <td>1682.11</td>\n",
       "      <td>1691.44</td>\n",
       "      <td>1681.90</td>\n",
       "      <td>1689.13</td>\n",
       "      <td>4329</td>\n",
       "    </tr>\n",
       "    <tr>\n",
       "      <th>2017-04-24 04:00:00</th>\n",
       "      <td>2017.04.24</td>\n",
       "      <td>04:00:00</td>\n",
       "      <td>1689.09</td>\n",
       "      <td>1689.24</td>\n",
       "      <td>1685.89</td>\n",
       "      <td>1687.68</td>\n",
       "      <td>2609</td>\n",
       "    </tr>\n",
       "    <tr>\n",
       "      <th>2017-04-24 05:00:00</th>\n",
       "      <td>2017.04.24</td>\n",
       "      <td>05:00:00</td>\n",
       "      <td>1687.65</td>\n",
       "      <td>1688.84</td>\n",
       "      <td>1686.15</td>\n",
       "      <td>1688.36</td>\n",
       "      <td>1592</td>\n",
       "    </tr>\n",
       "    <tr>\n",
       "      <th>2017-04-24 06:00:00</th>\n",
       "      <td>2017.04.24</td>\n",
       "      <td>06:00:00</td>\n",
       "      <td>1688.34</td>\n",
       "      <td>1689.59</td>\n",
       "      <td>1686.91</td>\n",
       "      <td>1687.06</td>\n",
       "      <td>1275</td>\n",
       "    </tr>\n",
       "    <tr>\n",
       "      <th>...</th>\n",
       "      <td>...</td>\n",
       "      <td>...</td>\n",
       "      <td>...</td>\n",
       "      <td>...</td>\n",
       "      <td>...</td>\n",
       "      <td>...</td>\n",
       "      <td>...</td>\n",
       "    </tr>\n",
       "    <tr>\n",
       "      <th>2025-09-05 16:00:00</th>\n",
       "      <td>2025.09.05</td>\n",
       "      <td>16:00:00</td>\n",
       "      <td>5447.51</td>\n",
       "      <td>5456.26</td>\n",
       "      <td>5433.22</td>\n",
       "      <td>5455.01</td>\n",
       "      <td>0</td>\n",
       "    </tr>\n",
       "    <tr>\n",
       "      <th>2025-09-05 17:00:00</th>\n",
       "      <td>2025.09.05</td>\n",
       "      <td>17:00:00</td>\n",
       "      <td>5454.84</td>\n",
       "      <td>5474.80</td>\n",
       "      <td>5451.73</td>\n",
       "      <td>5474.64</td>\n",
       "      <td>0</td>\n",
       "    </tr>\n",
       "    <tr>\n",
       "      <th>2025-09-05 18:00:00</th>\n",
       "      <td>2025.09.05</td>\n",
       "      <td>18:00:00</td>\n",
       "      <td>5474.54</td>\n",
       "      <td>5477.82</td>\n",
       "      <td>5459.37</td>\n",
       "      <td>5468.49</td>\n",
       "      <td>0</td>\n",
       "    </tr>\n",
       "    <tr>\n",
       "      <th>2025-09-05 19:00:00</th>\n",
       "      <td>2025.09.05</td>\n",
       "      <td>19:00:00</td>\n",
       "      <td>5468.33</td>\n",
       "      <td>5483.78</td>\n",
       "      <td>5466.57</td>\n",
       "      <td>5476.84</td>\n",
       "      <td>0</td>\n",
       "    </tr>\n",
       "    <tr>\n",
       "      <th>2025-09-05 20:00:00</th>\n",
       "      <td>2025.09.05</td>\n",
       "      <td>20:00:00</td>\n",
       "      <td>5476.98</td>\n",
       "      <td>5479.45</td>\n",
       "      <td>5474.51</td>\n",
       "      <td>5477.23</td>\n",
       "      <td>0</td>\n",
       "    </tr>\n",
       "  </tbody>\n",
       "</table>\n",
       "<p>38216 rows × 7 columns</p>\n",
       "</div>"
      ],
      "text/plain": [
       "                           date      time     open     high      low    close  \\\n",
       "datetime                                                                        \n",
       "2017-04-24 02:00:00  2017.04.24  02:00:00  1686.03  1686.15  1681.30  1682.15   \n",
       "2017-04-24 03:00:00  2017.04.24  03:00:00  1682.11  1691.44  1681.90  1689.13   \n",
       "2017-04-24 04:00:00  2017.04.24  04:00:00  1689.09  1689.24  1685.89  1687.68   \n",
       "2017-04-24 05:00:00  2017.04.24  05:00:00  1687.65  1688.84  1686.15  1688.36   \n",
       "2017-04-24 06:00:00  2017.04.24  06:00:00  1688.34  1689.59  1686.91  1687.06   \n",
       "...                         ...       ...      ...      ...      ...      ...   \n",
       "2025-09-05 16:00:00  2025.09.05  16:00:00  5447.51  5456.26  5433.22  5455.01   \n",
       "2025-09-05 17:00:00  2025.09.05  17:00:00  5454.84  5474.80  5451.73  5474.64   \n",
       "2025-09-05 18:00:00  2025.09.05  18:00:00  5474.54  5477.82  5459.37  5468.49   \n",
       "2025-09-05 19:00:00  2025.09.05  19:00:00  5468.33  5483.78  5466.57  5476.84   \n",
       "2025-09-05 20:00:00  2025.09.05  20:00:00  5476.98  5479.45  5474.51  5477.23   \n",
       "\n",
       "                     volume  \n",
       "datetime                     \n",
       "2017-04-24 02:00:00    4146  \n",
       "2017-04-24 03:00:00    4329  \n",
       "2017-04-24 04:00:00    2609  \n",
       "2017-04-24 05:00:00    1592  \n",
       "2017-04-24 06:00:00    1275  \n",
       "...                     ...  \n",
       "2025-09-05 16:00:00       0  \n",
       "2025-09-05 17:00:00       0  \n",
       "2025-09-05 18:00:00       0  \n",
       "2025-09-05 19:00:00       0  \n",
       "2025-09-05 20:00:00       0  \n",
       "\n",
       "[38216 rows x 7 columns]"
      ]
     },
     "execution_count": 6,
     "metadata": {},
     "output_type": "execute_result"
    }
   ],
   "source": [
    "cleaner.handle_outliers()"
   ]
  },
  {
   "cell_type": "code",
   "execution_count": null,
   "id": "ebac9c4e",
   "metadata": {},
   "outputs": [],
   "source": []
  }
 ],
 "metadata": {
  "kernelspec": {
   "display_name": "dpenv",
   "language": "python",
   "name": "python3"
  },
  "language_info": {
   "codemirror_mode": {
    "name": "ipython",
    "version": 3
   },
   "file_extension": ".py",
   "mimetype": "text/x-python",
   "name": "python",
   "nbconvert_exporter": "python",
   "pygments_lexer": "ipython3",
   "version": "3.10.13"
  }
 },
 "nbformat": 4,
 "nbformat_minor": 5
}
