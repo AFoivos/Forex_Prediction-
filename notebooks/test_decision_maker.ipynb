{
 "cells": [
  {
   "cell_type": "code",
   "execution_count": 1,
   "id": "5f0a4442",
   "metadata": {},
   "outputs": [
    {
     "name": "stdout",
     "output_type": "stream",
     "text": [
      "==================================================\n",
      "FOREX DATA LOADER\n",
      "==================================================\n",
      " Available Fuctions \n",
      "1 load_csv \n",
      "2 load_from_database\n",
      "==================================================\n",
      "Data loaded successfully!\n",
      "Shape: (38217, 5)\n",
      "\n",
      "==================================================\n",
      "==================================================\n",
      "FOREX DATA LOADER\n",
      "==================================================\n",
      " Available Fuctions \n",
      "1 load_csv \n",
      "2 load_from_database\n",
      "==================================================\n",
      "Data loaded successfully!\n",
      "Shape: (38217, 5)\n",
      "\n",
      "==================================================\n",
      "==================================================\n",
      "FOREX DATA CLEANER\n",
      "==================================================\n",
      " Available Fuctions \n",
      "1 remove_duplicates \n",
      "2 handle_missing_values \n",
      "3 validate_ohlc_integrity \n",
      "4 handle_outliers \n",
      "5 fast_cleaner\n",
      "==================================================\n",
      "==================================================\n",
      "Keep = first and subset = None\n",
      "Removed 0 duplicate entries\n",
      "==================================================\n",
      "OHLC DATA INTEGRITY VALIDATION\n",
      "==================================================\n",
      "No OHLC integrity violations found\n",
      "All OHLC values are consistent\n",
      "Found 1 missing values\n",
      " dropped: 1 missing values .\n",
      "==================================================\n",
      "OHLC DATA INTEGRITY VALIDATION\n",
      "==================================================\n",
      "No OHLC integrity violations found\n",
      "All OHLC values are consistent\n"
     ]
    }
   ],
   "source": [
    "import pandas as pd\n",
    "import numpy as np\n",
    "import os\n",
    "import sys\n",
    "\n",
    "project_root = os.path.abspath(os.path.join(os.getcwd(), '..'))\n",
    "if project_root not in sys.path:\n",
    "    sys.path.append(project_root)\n",
    "    \n",
    "from data_handle import (\n",
    "    ForexDataClean,\n",
    "    ForexDataLoad,\n",
    ")\n",
    "\n",
    "from analysis import(\n",
    "    ForexTimeSeriesAnalyzer,\n",
    "    ForexTimeSeriesDecisionMaker\n",
    ")\n",
    "\n",
    "import warnings\n",
    "warnings.filterwarnings('ignore')\n",
    "\n",
    "\n",
    "data = ForexDataLoad(file_path = '../data/xauaud.csv').data\n",
    "ohlcv_data = ForexDataLoad(file_path = '../data/xauaud.csv').data\n",
    "\n",
    "cleaner = ForexDataClean(data = data)\n",
    "data = cleaner.fast_cleaner()"
   ]
  },
  {
   "cell_type": "code",
   "execution_count": 2,
   "id": "9cc070e1",
   "metadata": {},
   "outputs": [
    {
     "name": "stdout",
     "output_type": "stream",
     "text": [
      "==================================================\n",
      "TIME SERIES ANALYSIS\n",
      "==================================================\n",
      " Available Functions \n",
      "1 basic_descriptive_stats \n",
      "2 stationarity_tests \n",
      "3 distribution_analysis \n",
      "4 autocorrelation_analysis \n",
      "5 volatility_analysis \n",
      "6 drawdown_analysis \n",
      "7 seasonal_decomposition \n",
      "8 run_complete_analysis\n",
      "==================================================\n"
     ]
    }
   ],
   "source": [
    "analyzer = ForexTimeSeriesAnalyzer(\n",
    "    data = data,\n",
    "    period = 24000\n",
    ")"
   ]
  },
  {
   "cell_type": "code",
   "execution_count": 3,
   "id": "3204411c",
   "metadata": {},
   "outputs": [
    {
     "name": "stdout",
     "output_type": "stream",
     "text": [
      "==================================================\n",
      "<class 'pandas.core.frame.DataFrame'>\n",
      "DatetimeIndex: 24000 entries, 2021-08-13 06:00:00 to 2025-09-05 20:00:00\n",
      "Data columns (total 2 columns):\n",
      " #   Column   Non-Null Count  Dtype  \n",
      "---  ------   --------------  -----  \n",
      " 0   close    24000 non-null  float64\n",
      " 1   returns  23999 non-null  float64\n",
      "dtypes: float64(2)\n",
      "memory usage: 562.5 KB\n",
      "None\n",
      "==================================================\n",
      "Shape of analysis results (24000, 2)\n",
      "==================================================\n",
      "0 rows removed\n",
      "==================================================\n"
     ]
    }
   ],
   "source": [
    "analysis_data, analysis_parameters = analyzer.run_complete_analysis()"
   ]
  },
  {
   "cell_type": "code",
   "execution_count": 4,
   "id": "74173b11",
   "metadata": {},
   "outputs": [
    {
     "name": "stdout",
     "output_type": "stream",
     "text": [
      "==================================================\n",
      "TIME SERIES DECISION MAKER\n",
      "==================================================\n",
      " Available Functions \n",
      "1 analyze_stationarity \n",
      "2 analyze_volatility \n",
      "3 analyze_distribution \n",
      "4 analyze_seasonality \n",
      "5 print_comprehensive_report\n",
      "==================================================\n"
     ]
    }
   ],
   "source": [
    "decisions = ForexTimeSeriesDecisionMaker(\n",
    "    analysis_results = analysis_parameters\n",
    ")"
   ]
  },
  {
   "cell_type": "code",
   "execution_count": 5,
   "id": "66d640a6",
   "metadata": {},
   "outputs": [
    {
     "name": "stdout",
     "output_type": "stream",
     "text": [
      "==================================================\n",
      "TIME SERIES ANALYSIS - AUTOMATED DECISION REPORT\n",
      "==================================================\n",
      "\n",
      " STATIONARITY ANALYSIS\n",
      "--------------------------------------------------\n",
      "returns_analysis    : STATIONARY - Suitable for modeling\n",
      "use_returns         : True\n",
      "price_analysis      : Use for level analysis only\n",
      "\n",
      " VOLATILITY ANALYSIS\n",
      "--------------------------------------------------\n",
      "volatility_clustering: PRESENT - ARCH/GARCH effects detected\n",
      "volatility_model    : GARCH-family recommended\n",
      "persistence         : HIGH - Volatility shocks persist\n",
      "risk_level          : MODERATE\n",
      "\n",
      " DISTRIBUTION ANALYSIS\n",
      "--------------------------------------------------\n",
      "normality           : REJECTED - Non-normal distribution\n",
      "skewness            : LOW - Approximately symmetric\n",
      "tails               : HEAVY - Extreme values likely\n",
      "extremes            : LOW - Few outliers\n",
      "\n",
      " SEASONALITY ANALYSIS\n",
      "--------------------------------------------------\n",
      "  seasonality         : NEGLIGIBLE - No significant seasonality\n",
      "  seasonal_model      : Non-seasonal models sufficient\n",
      "  trend               : NEGLIGIBLE - No clear trend\n",
      "\n",
      " KEY METRICS SUMMARY\n",
      "--------------------------------------------------\n",
      "Avg Volatility: 0.0017\n",
      "Vol of Vol: 0.0008\n",
      "Max Drawdown: -0.1409\n",
      "Skewness: -0.1355\n",
      "Kurtosis: 11.9221\n",
      "Extreme Returns: 1.5084%\n",
      "==================================================\n"
     ]
    },
    {
     "data": {
      "text/plain": [
       "{'stationarity': {'returns_analysis': 'STATIONARY - Suitable for modeling',\n",
       "  'use_returns': True,\n",
       "  'price_analysis': 'Use for level analysis only'},\n",
       " 'volatility': {'volatility_clustering': 'PRESENT - ARCH/GARCH effects detected',\n",
       "  'volatility_model': 'GARCH-family recommended',\n",
       "  'persistence': 'HIGH - Volatility shocks persist',\n",
       "  'risk_level': 'MODERATE'},\n",
       " 'distribution': {'normality': 'REJECTED - Non-normal distribution',\n",
       "  'skewness': 'LOW - Approximately symmetric',\n",
       "  'tails': 'HEAVY - Extreme values likely',\n",
       "  'extremes': 'LOW - Few outliers'},\n",
       " 'seasonality': {'seasonality': 'NEGLIGIBLE - No significant seasonality',\n",
       "  'seasonal_model': 'Non-seasonal models sufficient',\n",
       "  'trend': 'NEGLIGIBLE - No clear trend'}}"
      ]
     },
     "execution_count": 5,
     "metadata": {},
     "output_type": "execute_result"
    }
   ],
   "source": [
    "decisions.comprehensive_report()"
   ]
  }
 ],
 "metadata": {
  "kernelspec": {
   "display_name": "Python 3",
   "language": "python",
   "name": "python3"
  },
  "language_info": {
   "codemirror_mode": {
    "name": "ipython",
    "version": 3
   },
   "file_extension": ".py",
   "mimetype": "text/x-python",
   "name": "python",
   "nbconvert_exporter": "python",
   "pygments_lexer": "ipython3",
   "version": "3.9.24"
  }
 },
 "nbformat": 4,
 "nbformat_minor": 5
}
