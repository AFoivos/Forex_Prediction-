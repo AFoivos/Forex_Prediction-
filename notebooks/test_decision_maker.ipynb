{
 "cells": [
  {
   "cell_type": "code",
   "execution_count": 1,
   "id": "5f0a4442",
   "metadata": {},
   "outputs": [
    {
     "name": "stdout",
     "output_type": "stream",
     "text": [
      "==================================================\n",
      "FOREX DATA LOADER\n",
      "==================================================\n",
      " Available Fuctions \n",
      "1 load_csv \n",
      "2 load_from_database\n",
      "==================================================\n",
      "Data loaded successfully!\n",
      "Shape: (38217, 5)\n",
      "\n",
      "==================================================\n",
      "==================================================\n",
      "FOREX DATA LOADER\n",
      "==================================================\n",
      " Available Fuctions \n",
      "1 load_csv \n",
      "2 load_from_database\n",
      "==================================================\n",
      "Data loaded successfully!\n",
      "Shape: (38217, 5)\n",
      "\n",
      "==================================================\n",
      "==================================================\n",
      "FOREX DATA CLEANER\n",
      "==================================================\n",
      " Available Fuctions \n",
      "1 remove_duplicates \n",
      "2 handle_missing_values \n",
      "3 validate_ohlc_integrity \n",
      "4 handle_outliers\n",
      "==================================================\n",
      "==================================================\n",
      "Keep = first and subset = None\n",
      "Removed 0 duplicate entries\n",
      "Found 1 missing values\n",
      " dropped: 1 missing values .\n",
      "==================================================\n",
      "OUTLIER DETECTION AND HANDLING\n",
      "==================================================\n",
      "Method: quantile, Strategy: cap, Threshold: 3.0\n",
      "Remove outliers: False\n",
      "--------------------------------------------------\n",
      "open: Found 766 outliers (383 low, 383 high)\n",
      "Bounds: [1817.81300 - 5218.90300]\n",
      "Original range: [1674.10000 - 5476.98000]\n",
      "Method: Quantile (1%-99%)\n",
      "Outliers detected but not removed (remove=False)\n",
      "\n",
      "high: Found 764 outliers (381 low, 383 high)\n",
      "Bounds: [1819.15000 - 5224.87300]\n",
      "Original range: [1676.91000 - 5483.78000]\n",
      "Method: Quantile (1%-99%)\n",
      "Outliers detected but not removed (remove=False)\n",
      "\n",
      "low: Found 766 outliers (383 low, 383 high)\n",
      "Bounds: [1816.29450 - 5211.65900]\n",
      "Original range: [1671.60000 - 5474.51000]\n",
      "Method: Quantile (1%-99%)\n",
      "Outliers detected but not removed (remove=False)\n",
      "\n",
      "close: Found 766 outliers (383 low, 383 high)\n",
      "Bounds: [1817.85250 - 5218.90300]\n",
      "Original range: [1672.21000 - 5477.23000]\n",
      "Method: Quantile (1%-99%)\n",
      "Outliers detected but not removed (remove=False)\n",
      "\n",
      "volume: Found 48 outliers (0 low, 48 high)\n",
      "Bounds: [0.00000 - 0.00000]\n",
      "Original range: [0.00000 - 9910.00000]\n",
      "Method: Quantile (1%-99%)\n",
      "Outliers detected but not removed (remove=False)\n",
      "\n",
      "==================================================\n",
      "SUMMARY: Found 3110 outliers (not removed)\n",
      "Use remove=True to handle these outliers\n",
      "==================================================\n",
      "==================================================\n",
      "OHLC DATA INTEGRITY VALIDATION\n",
      "==================================================\n",
      "No OHLC integrity violations found\n",
      "All OHLC values are consistent\n"
     ]
    }
   ],
   "source": [
    "import pandas as pd\n",
    "import numpy as np\n",
    "import os\n",
    "import sys\n",
    "\n",
    "project_root = os.path.abspath(os.path.join(os.getcwd(), '..'))\n",
    "if project_root not in sys.path:\n",
    "    sys.path.append(project_root)\n",
    "    \n",
    "from data_handle import (\n",
    "    ForexDataClean,\n",
    "    ForexDataLoad,\n",
    ")\n",
    "\n",
    "from analysis import(\n",
    "    ForexTimeSeriesAnalyzer,\n",
    "    ForexTimeSeriesDecisionMaker\n",
    ")\n",
    "\n",
    "import warnings\n",
    "warnings.filterwarnings('ignore')\n",
    "\n",
    "\n",
    "data = ForexDataLoad(file_path = '../data/xauaud.csv').data\n",
    "ohlcv_data = ForexDataLoad(file_path = '../data/xauaud.csv').data\n",
    "\n",
    "cleaner = ForexDataClean(data = data, fast_clean = True)\n",
    "data = cleaner.data"
   ]
  },
  {
   "cell_type": "code",
   "execution_count": 2,
   "id": "9cc070e1",
   "metadata": {},
   "outputs": [
    {
     "name": "stdout",
     "output_type": "stream",
     "text": [
      "==================================================\n",
      "TIME SERIES ANALYSIS\n",
      "==================================================\n",
      " Available Functions \n",
      "1 basic_descriptive_stats \n",
      "2 stationarity_tests \n",
      "3 distribution_analysis \n",
      "4 autocorrelation_analysis \n",
      "5 volatility_analysis \n",
      "6 drawdown_analysis \n",
      "7 seasonal_decomposition \n",
      "8 run_complete_analysis\n",
      "==================================================\n"
     ]
    }
   ],
   "source": [
    "analyzer = ForexTimeSeriesAnalyzer(\n",
    "    data = data,\n",
    "    period = 240\n",
    ")"
   ]
  },
  {
   "cell_type": "code",
   "execution_count": 3,
   "id": "3204411c",
   "metadata": {},
   "outputs": [
    {
     "name": "stdout",
     "output_type": "stream",
     "text": [
      "==================================================\n",
      "<class 'pandas.core.frame.DataFrame'>\n",
      "DatetimeIndex: 240 entries, 2025-08-22 09:00:00 to 2025-09-05 20:00:00\n",
      "Data columns (total 2 columns):\n",
      " #   Column   Non-Null Count  Dtype  \n",
      "---  ------   --------------  -----  \n",
      " 0   close    240 non-null    float64\n",
      " 1   returns  239 non-null    float64\n",
      "dtypes: float64(2)\n",
      "memory usage: 5.6 KB\n",
      "None\n",
      "==================================================\n",
      "Shape of analysis results (240, 2)\n",
      "==================================================\n",
      "0 rows removed\n",
      "==================================================\n"
     ]
    }
   ],
   "source": [
    "analysis_data, analysis_parameters = analyzer.run_complete_analysis()"
   ]
  },
  {
   "cell_type": "code",
   "execution_count": 4,
   "id": "74173b11",
   "metadata": {},
   "outputs": [
    {
     "name": "stdout",
     "output_type": "stream",
     "text": [
      "==================================================\n",
      "TIME SERIES DECISION MAKER\n",
      "==================================================\n",
      " Available Functions \n",
      "1 analyze_stationarity \n",
      "2 analyze_volatility \n",
      "3 analyze_distribution \n",
      "4 analyze_seasonality \n",
      "5 print_comprehensive_report\n",
      "==================================================\n"
     ]
    }
   ],
   "source": [
    "decisions = ForexTimeSeriesDecisionMaker(\n",
    "    analysis_results = analysis_parameters\n",
    ")"
   ]
  },
  {
   "cell_type": "code",
   "execution_count": 5,
   "id": "66d640a6",
   "metadata": {},
   "outputs": [
    {
     "name": "stdout",
     "output_type": "stream",
     "text": [
      "==================================================\n",
      "TIME SERIES ANALYSIS - AUTOMATED DECISION REPORT\n",
      "==================================================\n",
      "\n",
      " STATIONARITY ANALYSIS\n",
      "--------------------------------------------------\n",
      "returns_analysis    : STATIONARY - Suitable for modeling\n",
      "use_returns         : True\n",
      "price_analysis      : Use for level analysis only\n",
      "\n",
      " VOLATILITY ANALYSIS\n",
      "--------------------------------------------------\n",
      "volatility_clustering: PRESENT - ARCH/GARCH effects detected\n",
      "volatility_model    : GARCH-family recommended\n",
      "persistence         : HIGH - Volatility shocks persist\n",
      "risk_level          : MODERATE\n",
      "\n",
      " DISTRIBUTION ANALYSIS\n",
      "--------------------------------------------------\n",
      "normality           : REJECTED - Non-normal distribution\n",
      "skewness            : MODERATE - Mild asymmetry\n",
      "tails               : LIGHT - Normal tails\n",
      "extremes            : MODERATE - Some outliers\n",
      "\n",
      " SEASONALITY ANALYSIS\n",
      "--------------------------------------------------\n",
      "  seasonality         : STRONG - Clear seasonal patterns\n",
      "  seasonal_model      : Seasonal models recommended\n",
      "  trend               : NEGLIGIBLE - No clear trend\n",
      "\n",
      " KEY METRICS SUMMARY\n",
      "--------------------------------------------------\n",
      "Avg Volatility: 0.001542\n",
      "Vol of Vol: 0.000403\n",
      "Max Drawdown: -0.0111\n",
      "Skewness: 0.9211\n",
      "Kurtosis: 2.9032\n",
      "Extreme Returns: 2.09%\n",
      "==================================================\n"
     ]
    }
   ],
   "source": [
    "decisions.print_comprehensive_report()"
   ]
  },
  {
   "cell_type": "code",
   "execution_count": null,
   "id": "28adef73",
   "metadata": {},
   "outputs": [],
   "source": []
  }
 ],
 "metadata": {
  "kernelspec": {
   "display_name": "Python 3",
   "language": "python",
   "name": "python3"
  },
  "language_info": {
   "codemirror_mode": {
    "name": "ipython",
    "version": 3
   },
   "file_extension": ".py",
   "mimetype": "text/x-python",
   "name": "python",
   "nbconvert_exporter": "python",
   "pygments_lexer": "ipython3",
   "version": "3.9.23"
  }
 },
 "nbformat": 4,
 "nbformat_minor": 5
}
