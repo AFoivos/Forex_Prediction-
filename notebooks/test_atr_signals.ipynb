{
 "cells": [
  {
   "cell_type": "code",
   "execution_count": 1,
   "id": "b689d256",
   "metadata": {},
   "outputs": [
    {
     "name": "stdout",
     "output_type": "stream",
     "text": [
      "==================================================\n",
      "FOREX DATA LOADER\n",
      "==================================================\n",
      " Available Fuctions \n",
      "1 load_csv \n",
      "2 load_dataframe \n",
      "3 load_from_database\n",
      "==================================================\n",
      "Data loaded successfully!\n",
      "Shape: (38217, 5)\n",
      "\n",
      "==================================================\n",
      "==================================================\n",
      "FOREX DATA LOADER\n",
      "==================================================\n",
      " Available Fuctions \n",
      "1 load_csv \n",
      "2 load_dataframe \n",
      "3 load_from_database\n",
      "==================================================\n",
      "Data loaded successfully!\n",
      "Shape: (38217, 5)\n",
      "\n",
      "==================================================\n",
      "==================================================\n",
      "FOREX DATA CLEANER\n",
      "==================================================\n",
      " Available Fuctions \n",
      "1 remove_duplicates \n",
      "2 handle_missing_values \n",
      "3 validate_ohlc_integrity \n",
      "4 handle_outliers\n",
      "==================================================\n",
      "==================================================\n",
      "Keep = first and subset = None\n",
      "Removed 0 duplicate entries\n",
      "Found 1 missing values\n",
      " dropped: 1 missing values .\n",
      "==================================================\n",
      "OUTLIER DETECTION AND HANDLING\n",
      "==================================================\n",
      "Method: quantile, Strategy: cap, Threshold: 3.0\n",
      "Remove outliers: False\n",
      "--------------------------------------------------\n",
      "open: Found 766 outliers (383 low, 383 high)\n",
      "Bounds: [1817.81300 - 5218.90300]\n",
      "Original range: [1674.10000 - 5476.98000]\n",
      "Method: Quantile (1%-99%)\n",
      "Outliers detected but not removed (remove=False)\n",
      "\n",
      "high: Found 764 outliers (381 low, 383 high)\n",
      "Bounds: [1819.15000 - 5224.87300]\n",
      "Original range: [1676.91000 - 5483.78000]\n",
      "Method: Quantile (1%-99%)\n",
      "Outliers detected but not removed (remove=False)\n",
      "\n",
      "low: Found 766 outliers (383 low, 383 high)\n",
      "Bounds: [1816.29450 - 5211.65900]\n",
      "Original range: [1671.60000 - 5474.51000]\n",
      "Method: Quantile (1%-99%)\n",
      "Outliers detected but not removed (remove=False)\n",
      "\n",
      "close: Found 766 outliers (383 low, 383 high)\n",
      "Bounds: [1817.85250 - 5218.90300]\n",
      "Original range: [1672.21000 - 5477.23000]\n",
      "Method: Quantile (1%-99%)\n",
      "Outliers detected but not removed (remove=False)\n",
      "\n",
      "volume: Found 48 outliers (0 low, 48 high)\n",
      "Bounds: [0.00000 - 0.00000]\n",
      "Original range: [0.00000 - 9910.00000]\n",
      "Method: Quantile (1%-99%)\n",
      "Outliers detected but not removed (remove=False)\n",
      "\n",
      "==================================================\n",
      "SUMMARY: Found 3110 outliers (not removed)\n",
      "Use remove=True to handle these outliers\n",
      "==================================================\n",
      "==================================================\n",
      "OHLC DATA INTEGRITY VALIDATION\n",
      "==================================================\n",
      "No OHLC integrity violations found\n",
      "All OHLC values are consistent\n"
     ]
    }
   ],
   "source": [
    "import pandas as pd\n",
    "import numpy as np\n",
    "import matplotlib.pyplot as plt\n",
    "import seaborn as sns\n",
    "from typing import Dict, List, Optional, Union\n",
    "import os\n",
    "import sys\n",
    "\n",
    "project_root = os.path.abspath(os.path.join(os.getcwd(), '..'))\n",
    "if project_root not in sys.path:\n",
    "    sys.path.append(project_root)\n",
    "\n",
    "from plots import ForexPlotter\n",
    "\n",
    "from data_handle import (\n",
    "    ForexDataClean,\n",
    "    ForexDataLoad,\n",
    "    ForexPctChange,\n",
    "    ForexQuickLook,\n",
    ")\n",
    "\n",
    "from features import (\n",
    "    ForexTSIndicators,\n",
    "    ForexCustomIndicators,\n",
    "    ForexMomentumIndicators,\n",
    "    ForexTrendIndicators,\n",
    "    ForexVolatilityIndicators,\n",
    "    ForexVolumeIndicators,\n",
    "    ForexMASignals,\n",
    "    ForexMACDSignals,\n",
    "    ForexADXSignals,\n",
    "    ForexParabolicSARSignals,\n",
    "    ForexRSISignals,\n",
    "    ForexStochasticSignals,\n",
    "    ForexWilliamsRSignals,\n",
    "    ForexCCISignals,\n",
    "    ForexATRSignals\n",
    ")\n",
    "\n",
    "import warnings\n",
    "warnings.filterwarnings('ignore')\n",
    "\n",
    "\n",
    "data = ForexDataLoad(file_path = '../data/xauaud.csv').data\n",
    "ohlcv_data = ForexDataLoad(file_path = '../data/xauaud.csv').data\n",
    "\n",
    "cleaner = ForexDataClean(data = data, fast_clean = True)\n",
    "data = cleaner.data"
   ]
  },
  {
   "cell_type": "code",
   "execution_count": 2,
   "id": "a259ca39",
   "metadata": {},
   "outputs": [
    {
     "name": "stdout",
     "output_type": "stream",
     "text": [
      "==================================================\n",
      "VOLATILITY INDICATORS\n",
      "==================================================\n",
      " Available Fuctions \n",
      "1 add_atr \n",
      "2 add_bollinger_bands \n",
      "3 add_keltner_channels \n",
      "4 add_standard_deviation  \n",
      "5 generate_all_volatility_indicators\n",
      "==================================================\n",
      "[[14, 21, 28], [28, 42, 56]]\n",
      "{'atr_params': [[14, 21, 28], [28, 42, 56]]}\n",
      "[10]\n",
      "{'atr_params': [10], 'bb_params': [[20, 2, 2], [10, 1, 1]], 'keltner_params': [[20, 10, 2], [10, 5, 1]]}\n",
      "[5]\n",
      "{'atr_params': [5], 'bb_params': [[20, 2, 2], [10, 1, 1]], 'keltner_params': [[20, 10, 2], [10, 5, 1]]}\n",
      "==================================================\n",
      "Data Info\n",
      "<class 'pandas.core.frame.DataFrame'>\n",
      "DatetimeIndex: 38216 entries, 2017-04-24 02:00:00 to 2025-09-05 20:00:00\n",
      "Data columns (total 25 columns):\n",
      " #   Column                        Non-Null Count  Dtype  \n",
      "---  ------                        --------------  -----  \n",
      " 0   close                         38216 non-null  float64\n",
      " 1   atr_14                        38202 non-null  float64\n",
      " 2   atr_21                        38195 non-null  float64\n",
      " 3   atr_28                        38188 non-null  float64\n",
      " 4   atr_42                        38174 non-null  float64\n",
      " 5   atr_56                        38160 non-null  float64\n",
      " 6   bb_20_upper                   38197 non-null  float64\n",
      " 7   bb_20_middle                  38197 non-null  float64\n",
      " 8   bb_20_lower                   38197 non-null  float64\n",
      " 9   bb_10_upper                   38207 non-null  float64\n",
      " 10  bb_10_middle                  38207 non-null  float64\n",
      " 11  bb_10_lower                   38207 non-null  float64\n",
      " 12  atr_10                        38206 non-null  float64\n",
      " 13  keltner_ema_20_atr_10_middle  38197 non-null  float64\n",
      " 14  keltner_ema_20_atr_10_upper   38197 non-null  float64\n",
      " 15  keltner_ema_20_atr_10_lower   38197 non-null  float64\n",
      " 16  atr_5                         38211 non-null  float64\n",
      " 17  keltner_ema_10_atr_5_middle   38207 non-null  float64\n",
      " 18  keltner_ema_10_atr_5_upper    38207 non-null  float64\n",
      " 19  keltner_ema_10_atr_5_lower    38207 non-null  float64\n",
      " 20  vol_std_dev_20                38197 non-null  float64\n",
      " 21  vol_std_dev_50                38167 non-null  float64\n",
      " 22  vol_std_dev_100               38117 non-null  float64\n",
      " 23  vol_std_dev_10                38207 non-null  float64\n",
      " 24  vol_std_dev_25                38192 non-null  float64\n",
      "dtypes: float64(25)\n",
      "memory usage: 7.6 MB\n",
      "None\n",
      "==================================================\n",
      "Shape of data (38216, 25)\n",
      "==================================================\n",
      "0 rows removed\n",
      "==================================================\n"
     ]
    }
   ],
   "source": [
    "volatility_data = ForexVolatilityIndicators(data = data).generate_all_volatility_indicators(\n",
    "    bb_period_nbdevup_nbdevdn = [[20, 2, 2], [10, 1, 1]],\n",
    "    kethlner_ema_atr_multiplier = [[20, 10, 2], [10, 5, 1]],\n",
    "    atr_periods = [[14, 21, 28], [28, 42, 56]],\n",
    "    std_periods = [[20, 50, 100], [10, 25, 50]], \n",
    ")"
   ]
  },
  {
   "cell_type": "code",
   "execution_count": 3,
   "id": "98ed3d2f",
   "metadata": {},
   "outputs": [
    {
     "data": {
      "text/plain": [
       "[5]"
      ]
     },
     "execution_count": 3,
     "metadata": {},
     "output_type": "execute_result"
    }
   ],
   "source": [
    "volatility_data[1]['atr_params']"
   ]
  },
  {
   "cell_type": "code",
   "execution_count": 4,
   "id": "93c08dd4",
   "metadata": {},
   "outputs": [
    {
     "data": {
      "text/plain": [
       "[[20, 2, 2], [10, 1, 1]]"
      ]
     },
     "execution_count": 4,
     "metadata": {},
     "output_type": "execute_result"
    }
   ],
   "source": [
    "volatility_data[1]['bb_params']"
   ]
  },
  {
   "cell_type": "code",
   "execution_count": 5,
   "id": "35da040b",
   "metadata": {},
   "outputs": [
    {
     "name": "stdout",
     "output_type": "stream",
     "text": [
      "==================================================\n",
      "ATR SIGNAL GENERATION\n",
      "==================================================\n",
      "Available functions: \n",
      "1 atr_volatility_signals \n",
      "2 atr_breakout_signals \n",
      "3 atr_trend_strength_signals \n",
      "4 atr_squeeze_signals \n",
      "5 atr_expansion_contraction_signals \n",
      "6 generate_all_atr_signals\n",
      "==================================================\n"
     ]
    }
   ],
   "source": [
    "atr_signals = ForexATRSignals(\n",
    "    data = volatility_data[0],\n",
    "    parameters = volatility_data[1]['atr_params']\n",
    ")"
   ]
  },
  {
   "cell_type": "code",
   "execution_count": 6,
   "id": "1ddd93c9",
   "metadata": {},
   "outputs": [
    {
     "data": {
      "text/plain": [
       "[5]"
      ]
     },
     "execution_count": 6,
     "metadata": {},
     "output_type": "execute_result"
    }
   ],
   "source": [
    "volatility_data[1]['atr_params']"
   ]
  },
  {
   "cell_type": "code",
   "execution_count": null,
   "id": "7315be4e",
   "metadata": {},
   "outputs": [],
   "source": []
  }
 ],
 "metadata": {
  "kernelspec": {
   "display_name": "Python 3",
   "language": "python",
   "name": "python3"
  },
  "language_info": {
   "codemirror_mode": {
    "name": "ipython",
    "version": 3
   },
   "file_extension": ".py",
   "mimetype": "text/x-python",
   "name": "python",
   "nbconvert_exporter": "python",
   "pygments_lexer": "ipython3",
   "version": "3.9.23"
  }
 },
 "nbformat": 4,
 "nbformat_minor": 5
}
