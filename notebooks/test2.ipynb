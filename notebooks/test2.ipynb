{
 "cells": [
  {
   "cell_type": "code",
   "execution_count": null,
   "id": "b688686f",
   "metadata": {},
   "outputs": [],
   "source": [
    "import pandas as pd\n",
    "import numpy as np\n",
    "import matplotlib.pyplot as plt\n",
    "import seaborn as sns\n",
    "import importlib.util\n",
    "import os\n",
    "import sys\n",
    "\n",
    "project_root = os.path.abspath(os.path.join(os.getcwd(), '..'))\n",
    "if project_root not in sys.path:\n",
    "    sys.path.append(project_root)\n",
    "    \n",
    "#file_path = os.path.join(project_root, 'src', 'data_handle', 'load_clean_first_look.py')\n",
    "from data_handle.data_load import ForexDataLoad\n",
    "from data_handle.quick_look import ForexQuickLook\n",
    "from data_handle.data_clean import ForexDataClean\n",
    "from data\n",
    "\n",
    "from features.indicators.trend import ForexTrendIndicators\n",
    "from features.indicators.momentum import ForexMomentumIndicators\n",
    "\n",
    "from plots.plotter import ForexPlotter\n",
    "\n",
    "import warnings\n",
    "warnings.filterwarnings('ignore')"
   ]
  },
  {
   "cell_type": "code",
   "execution_count": null,
   "id": "223db304",
   "metadata": {},
   "outputs": [],
   "source": []
  }
 ],
 "metadata": {
  "kernelspec": {
   "display_name": "dpenv",
   "language": "python",
   "name": "python3"
  },
  "language_info": {
   "name": "python",
   "version": "3.10.13"
  }
 },
 "nbformat": 4,
 "nbformat_minor": 5
}
